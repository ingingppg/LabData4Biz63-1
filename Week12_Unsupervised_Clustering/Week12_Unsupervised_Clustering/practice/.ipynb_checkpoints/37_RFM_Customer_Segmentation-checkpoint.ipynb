{
 "cells": [
  {
   "cell_type": "markdown",
   "metadata": {},
   "source": [
    "\n",
    "# Customer Segmentation\n",
    "### [Segmentation by RFM clustering](https://towardsdatascience.com/data-driven-growth-with-python-part-2-customer-segmentation-5c019d150444)\n",
    "\n",
    "Term 1 2020 - Instructor: Teerapong Leelanupab\n",
    "\n",
    "Teaching Assistant: \n",
    "1. Tiwipab Meephruek (Mil)\n",
    "2. Jiratkul Wangsiripaisarn (Brooklyn)\n",
    "3. Hataichanok Sakkara (Pond)\n",
    "\n",
    "***"
   ]
  },
  {
   "cell_type": "code",
   "execution_count": null,
   "metadata": {
    "id": "_Ibbj7GJy7Be",
    "outputId": "fe3522e5-fbc3-44f7-c4e4-23edc6c0f531"
   },
   "outputs": [],
   "source": [
    "!pip install plotly\n",
    "!pip install chart-studio"
   ]
  },
  {
   "cell_type": "code",
   "execution_count": null,
   "metadata": {
    "id": "IryjMf6py7Bj",
    "outputId": "7648c9f0-65f1-45c1-cd54-7737e333cf58"
   },
   "outputs": [],
   "source": [
    "# import libraries\n",
    "from __future__ import division\n",
    "from datetime import datetime, timedelta\n",
    "\n",
    "import pandas as pd\n",
    "%matplotlib inline\n",
    "import matplotlib.pyplot as plt\n",
    "import numpy as np\n",
    "import seaborn as sns\n",
    "\n",
    "\n",
    "import chart_studio.plotly as py\n",
    "import plotly.offline as pyoff\n",
    "import plotly.graph_objs as go\n",
    "\n",
    "#inititate Plotly\n",
    "pyoff.init_notebook_mode()\n",
    "\n",
    "#load our data from CSV\n",
    "tx_data = pd.read_csv('data/OnlineRetail.csv', encoding=\"ISO-8859-1\")\n",
    "\n",
    "#convert the string date field to datetime\n",
    "tx_data['InvoiceDate'] = pd.to_datetime(tx_data['InvoiceDate'])\n",
    "\n",
    "#we will be using only UK data\n",
    "tx_uk = tx_data.query(\"Country=='United Kingdom'\").reset_index(drop=True)\n"
   ]
  },
  {
   "cell_type": "code",
   "execution_count": null,
   "metadata": {
    "id": "xM_WrqVoy7Bo",
    "outputId": "2be4f0f2-da8f-430c-d8b8-e0428094d71d"
   },
   "outputs": [],
   "source": [
    "tx_data"
   ]
  },
  {
   "cell_type": "code",
   "execution_count": null,
   "metadata": {
    "id": "9aTgO1Qdy7Br",
    "outputId": "1aece7ca-5ec4-4ff6-a430-2f62adac5ce7",
    "scrolled": true
   },
   "outputs": [],
   "source": [
    "tx_uk"
   ]
  },
  {
   "cell_type": "markdown",
   "metadata": {},
   "source": [
    "# Our ranking function for customer rating based on RFM\n",
    "\n",
    "$$ \\begin{equation} Score_{RFM} = w_r \\cdot r + w_f \\cdot f + w_m \\cdot m \\end{equation} $$\n",
    "\n",
    "Like grading students (e.g., A, B, C ,D ,E, F) from scores students get from exams and assignments, we need to find the way to numeric grades, (e.g., 4, 3, 2, 1) for our customer based on RFM (Recency, Frequency and Monetary).\n",
    "\n",
    "One of the simple approach is to apply clustering to get the grade of each component, i.e., recency (r), frequency (f) and monetary (m)."
   ]
  },
  {
   "cell_type": "markdown",
   "metadata": {
    "id": "0S6dQRu4y7Bu"
   },
   "source": [
    "# Recency"
   ]
  },
  {
   "cell_type": "code",
   "execution_count": null,
   "metadata": {
    "id": "iga3QEKPy7Bu",
    "outputId": "e3f9ac16-a45e-48a2-ae21-8a6ecb786f26"
   },
   "outputs": [],
   "source": [
    "#create a generic user dataframe to keep CustomerID and new segmentation scores\n",
    "tx_user = pd.DataFrame(tx_data['CustomerID'].unique())\n",
    "tx_user.columns = ['CustomerID']\n",
    "\n",
    "#get the max purchase date for each customer and create a dataframe with it\n",
    "tx_max_date_purchase = tx_uk.groupby('CustomerID').InvoiceDate.max().reset_index()\n",
    "tx_max_date_purchase.columns = ['CustomerID','MaxPurchaseDate']\n",
    "\n",
    "#we take our observation point as the max invoice date in our dataset\n",
    "# the most recent transaction in this sample - each most recent transaction of each customer \n",
    "tx_max_date_purchase['Recency'] = (tx_max_date_purchase['MaxPurchaseDate'].max() - tx_max_date_purchase['MaxPurchaseDate']).dt.days\n",
    "\n",
    "tx_max_date_purchase"
   ]
  },
  {
   "cell_type": "code",
   "execution_count": null,
   "metadata": {
    "id": "M_QYcFw4y7Bx",
    "outputId": "c2558324-5b10-4894-e44a-5918b8cdd125"
   },
   "outputs": [],
   "source": [
    "#merge this dataframe to our new user dataframe\n",
    "tx_user = pd.merge(tx_user, tx_max_date_purchase[['CustomerID','Recency']], on='CustomerID')\n",
    "\n",
    "tx_user.head()"
   ]
  },
  {
   "cell_type": "code",
   "execution_count": null,
   "metadata": {
    "id": "FE_qOhdBy7Bz",
    "outputId": "8b9fabd8-6b6a-4645-b21d-a6cc8f2876e5"
   },
   "outputs": [],
   "source": [
    "tx_user.Recency.describe()"
   ]
  },
  {
   "cell_type": "code",
   "execution_count": null,
   "metadata": {
    "id": "5WsXENSay7B2",
    "outputId": "c37ceb82-29fc-49cb-c4cb-cf1ef312c73d"
   },
   "outputs": [],
   "source": [
    "#plot a recency histogram\n",
    "\n",
    "plot_data = [\n",
    "    go.Histogram(\n",
    "        x=tx_user['Recency']\n",
    "    )\n",
    "]\n",
    "\n",
    "plot_layout = go.Layout(\n",
    "        title='Recency (Days)'\n",
    "    )\n",
    "fig = go.Figure(data=plot_data, layout=plot_layout)\n",
    "pyoff.iplot(fig)"
   ]
  },
  {
   "cell_type": "code",
   "execution_count": null,
   "metadata": {
    "id": "qIBFM4LJy7B5",
    "outputId": "8104bc04-6be1-4019-fb2c-7226794dddf7"
   },
   "outputs": [],
   "source": [
    "from sklearn.cluster import KMeans\n",
    "\n",
    "sse={}\n",
    "tx_recency = tx_user[['Recency']]\n",
    "for k in range(1, 10):\n",
    "    kmeans = KMeans(n_clusters=k, max_iter=1000).fit(tx_recency)\n",
    "    tx_recency[\"clusters\"] = kmeans.labels_\n",
    "    sse[k] = kmeans.inertia_ \n",
    "plt.figure()\n",
    "plt.plot(list(sse.keys()), list(sse.values()))\n",
    "plt.xlabel(\"Number of cluster\")\n",
    "plt.ylabel(\"Error\")\n",
    "plt.show()"
   ]
  },
  {
   "cell_type": "code",
   "execution_count": null,
   "metadata": {
    "id": "rVy0xqcay7B7",
    "outputId": "2693a47f-96d5-4680-afff-47ed5037f1d7"
   },
   "outputs": [],
   "source": [
    "from sklearn.metrics import silhouette_score\n",
    "\n",
    "sil = {}\n",
    "\n",
    "# dissimilarity would not be defined for a single cluster, thus, minimum number of clusters should be 2\n",
    "for k in range(2, 10):\n",
    "    kmeans = KMeans(n_clusters=k, max_iter=1000).fit(tx_recency)\n",
    "    labels = kmeans.labels_\n",
    "    sil[k] = silhouette_score(tx_recency, labels, metric = 'euclidean')\n",
    "    \n",
    "plt.figure()\n",
    "plt.plot(list(sil.keys()), list(sil.values()))\n",
    "plt.xlabel(\"Number of cluster\")\n",
    "plt.ylabel(\"Silhouette score\")\n",
    "plt.show()"
   ]
  },
  {
   "cell_type": "code",
   "execution_count": null,
   "metadata": {
    "id": "n5QmqERzy7B9",
    "outputId": "18141187-a607-4d4f-b8b1-cda03b3ecbbc",
    "scrolled": false
   },
   "outputs": [],
   "source": [
    "from sklearn.metrics import silhouette_samples, silhouette_score\n",
    "import matplotlib.cm as cm\n",
    "\n",
    "range_n_clusters = [2, 3, 4, 5, 6, 7, 8, 9, 10]\n",
    "\n",
    "for n_clusters in range_n_clusters:\n",
    "    # Create a subplot with 1 row and 2 columns\n",
    "    fig, (ax1) = plt.subplots(1, 1)\n",
    "    fig.set_size_inches(18, 7)\n",
    "\n",
    "    # The 1st subplot is the silhouette plot\n",
    "    # The silhouette coefficient can range from -1, 1 but in this example all\n",
    "    # lie within [-0.1, 1]\n",
    "    ax1.set_xlim([-0.1, 1])\n",
    "    # The (n_clusters+1)*10 is for inserting blank space between silhouette\n",
    "    # plots of individual clusters, to demarcate them clearly.\n",
    "    ax1.set_ylim([0, len(tx_recency) + (n_clusters + 1) * 10])\n",
    "\n",
    "    # Initialize the clusterer with n_clusters value and a random generator\n",
    "    # seed of 10 for reproducibility.\n",
    "    clusterer = KMeans(n_clusters=n_clusters, random_state=10)\n",
    "    cluster_labels = clusterer.fit_predict(tx_recency)\n",
    "\n",
    "    # The silhouette_score gives the average value for all the samples.\n",
    "    # This gives a perspective into the density and separation of the formed\n",
    "    # clusters\n",
    "    silhouette_avg = silhouette_score(tx_recency, cluster_labels)\n",
    "    print(\"For n_clusters =\", n_clusters,\n",
    "          \"The average silhouette_score is :\", silhouette_avg)\n",
    "\n",
    "    # Compute the silhouette scores for each sample\n",
    "    sample_silhouette_values = silhouette_samples(tx_recency, cluster_labels)\n",
    "\n",
    "    y_lower = 10\n",
    "    for i in range(n_clusters):\n",
    "        # Aggregate the silhouette scores for samples belonging to\n",
    "        # cluster i, and sort them\n",
    "        ith_cluster_silhouette_values = \\\n",
    "            sample_silhouette_values[cluster_labels == i]\n",
    "\n",
    "        ith_cluster_silhouette_values.sort()\n",
    "\n",
    "        size_cluster_i = ith_cluster_silhouette_values.shape[0]\n",
    "        y_upper = y_lower + size_cluster_i\n",
    "\n",
    "        color = cm.nipy_spectral(float(i) / n_clusters)\n",
    "        ax1.fill_betweenx(np.arange(y_lower, y_upper),\n",
    "                          0, ith_cluster_silhouette_values,\n",
    "                          facecolor=color, edgecolor=color, alpha=0.7)\n",
    "\n",
    "        # Label the silhouette plots with their cluster numbers at the middle\n",
    "        ax1.text(-0.05, y_lower + 0.5 * size_cluster_i, str(i))\n",
    "\n",
    "        # Compute the new y_lower for next plot\n",
    "        y_lower = y_upper + 10  # 10 for the 0 samples\n",
    "\n",
    "    ax1.set_title(\"The silhouette plot for the various clusters.\")\n",
    "    ax1.set_xlabel(\"The silhouette coefficient values\")\n",
    "    ax1.set_ylabel(\"Cluster label\")\n",
    "\n",
    "    # The vertical line for average silhouette score of all the values\n",
    "    ax1.axvline(x=silhouette_avg, color=\"red\", linestyle=\"--\")\n",
    "\n",
    "    ax1.set_yticks([])  # Clear the yaxis labels / ticks\n",
    "    ax1.set_xticks([-0.1, 0, 0.2, 0.4, 0.6, 0.8, 1])\n",
    "\n",
    "    plt.suptitle((\"Silhouette analysis for KMeans clustering on sample data \"\n",
    "                  \"with n_clusters = %d\" % n_clusters),\n",
    "                 fontsize=14, fontweight='bold')\n",
    "\n",
    "plt.show()"
   ]
  },
  {
   "cell_type": "code",
   "execution_count": null,
   "metadata": {
    "id": "tZOx4hzpy7B_",
    "scrolled": false
   },
   "outputs": [],
   "source": [
    "from sklearn.datasets import make_blobs\n",
    "\n",
    "# Generating the sample data from make_blobs\n",
    "# This particular setting has one distinct cluster and 3 clusters placed close\n",
    "# together.\n",
    "X, y = make_blobs(n_samples=500,\n",
    "                  n_features=2,\n",
    "                  centers=4,\n",
    "                  cluster_std=1,\n",
    "                  center_box=(-10.0, 10.0),\n",
    "                  shuffle=True,\n",
    "                  random_state=1)  # For reproducibility"
   ]
  },
  {
   "cell_type": "code",
   "execution_count": null,
   "metadata": {
    "id": "C6TdrU_qy7CB",
    "outputId": "09f26f19-002a-4e3c-8712-4dea5b707a07",
    "scrolled": true
   },
   "outputs": [],
   "source": [
    "X"
   ]
  },
  {
   "cell_type": "code",
   "execution_count": null,
   "metadata": {
    "id": "FyVd_0V3y7CE",
    "outputId": "2747d103-8152-4b50-ec29-eeef6b5501b0"
   },
   "outputs": [],
   "source": [
    "X[:, 0]"
   ]
  },
  {
   "cell_type": "code",
   "execution_count": null,
   "metadata": {
    "id": "k98WHbrZy7CH"
   },
   "outputs": [],
   "source": [
    "#build 4 clusters for recency and add it to dataframe\n",
    "kmeans = KMeans(n_clusters=4)\n",
    "kmeans.fit(tx_user[['Recency']])\n",
    "tx_user['RecencyCluster'] = kmeans.predict(tx_user[['Recency']])\n",
    "\n",
    "#function for ordering cluster numbers\n",
    "def order_cluster(cluster_field_name, target_field_name, df, ascending):\n",
    "    new_cluster_field_name = 'new_' + cluster_field_name\n",
    "    df_new = df.groupby(cluster_field_name)[target_field_name].mean().reset_index()\n",
    "    df_new = df_new.sort_values(by=target_field_name,ascending=ascending).reset_index(drop=True)\n",
    "    df_new['index'] = df_new.index\n",
    "    df_final = pd.merge(df,df_new[[cluster_field_name,'index']], on=cluster_field_name)\n",
    "    df_final = df_final.drop([cluster_field_name],axis=1)\n",
    "    df_final = df_final.rename(columns={\"index\":cluster_field_name})\n",
    "    return df_final\n",
    "\n",
    "tx_user = order_cluster('RecencyCluster', 'Recency', tx_user, False)"
   ]
  },
  {
   "cell_type": "code",
   "execution_count": null,
   "metadata": {
    "id": "gm6BIjkBy7CJ",
    "outputId": "f56e4d60-bc71-465f-f6ea-3abab552a29b"
   },
   "outputs": [],
   "source": [
    "tx_user.head()"
   ]
  },
  {
   "cell_type": "code",
   "execution_count": null,
   "metadata": {},
   "outputs": [],
   "source": [
    "tx_user.tail()"
   ]
  },
  {
   "cell_type": "code",
   "execution_count": null,
   "metadata": {
    "id": "CLCsSzgZy7CL",
    "outputId": "2e23e517-a8c6-4a33-f512-106e2a3fa26f"
   },
   "outputs": [],
   "source": [
    "tx_user.groupby('RecencyCluster').Recency.describe()"
   ]
  },
  {
   "cell_type": "markdown",
   "metadata": {
    "id": "7lVjK2ayy7CN"
   },
   "source": [
    "# Frequency"
   ]
  },
  {
   "cell_type": "code",
   "execution_count": null,
   "metadata": {
    "id": "5p9N57ady7CN",
    "outputId": "f6ce31a1-71ae-4984-e175-0fa6bf44236d"
   },
   "outputs": [],
   "source": [
    "#get order counts for each user and create a dataframe with it\n",
    "tx_frequency = tx_uk.groupby('CustomerID').InvoiceDate.count().reset_index()\n",
    "tx_frequency.columns = ['CustomerID','Frequency']\n",
    "\n",
    "\n",
    "#add this data to our main dataframe\n",
    "tx_user = pd.merge(tx_user, tx_frequency, on='CustomerID')\n",
    "\n",
    "#plot the histogram\n",
    "plot_data = [\n",
    "    go.Histogram(\n",
    "        x=tx_user.query('Frequency < 1000')['Frequency']\n",
    "    )\n",
    "]\n",
    "\n",
    "plot_layout = go.Layout(\n",
    "        title='Frequency (Only customers who have transactions fewer than 1000.)'\n",
    "    )\n",
    "fig = go.Figure(data=plot_data, layout=plot_layout)\n",
    "pyoff.iplot(fig)"
   ]
  },
  {
   "cell_type": "code",
   "execution_count": null,
   "metadata": {
    "id": "0g20rHUhy7CP",
    "outputId": "8a727b4c-0dd1-4e91-929e-6b3bd713461d"
   },
   "outputs": [],
   "source": [
    "#k-means\n",
    "kmeans = KMeans(n_clusters=4)\n",
    "kmeans.fit(tx_user[['Frequency']])\n",
    "tx_user['FrequencyCluster'] = kmeans.predict(tx_user[['Frequency']])\n",
    "\n",
    "#order the frequency cluster\n",
    "tx_user = order_cluster('FrequencyCluster', 'Frequency', tx_user, True) \n",
    "\n",
    "#see details of each cluster\n",
    "tx_user.groupby('FrequencyCluster')['Frequency'].describe()"
   ]
  },
  {
   "cell_type": "markdown",
   "metadata": {
    "id": "OTZga8nYy7CS"
   },
   "source": [
    "# Revenue"
   ]
  },
  {
   "cell_type": "code",
   "execution_count": null,
   "metadata": {
    "id": "05QxAhjCy7CT",
    "outputId": "bb701f61-c881-4d54-ad10-7374c6e692c8"
   },
   "outputs": [],
   "source": [
    "#calculate revenue for each customer\n",
    "tx_uk['Revenue'] = tx_uk['UnitPrice'] * tx_uk['Quantity']\n",
    "tx_revenue = tx_uk.groupby('CustomerID').Revenue.sum().reset_index()\n",
    "\n",
    "#merge it with our main dataframe\n",
    "tx_user = pd.merge(tx_user, tx_revenue, on='CustomerID')\n",
    "\n",
    "#plot the histogram\n",
    "plot_data = [\n",
    "    go.Histogram(\n",
    "        x=tx_user.query('Revenue < 10000')['Revenue']\n",
    "    )\n",
    "]\n",
    "\n",
    "plot_layout = go.Layout(\n",
    "        title='Monetary Value'\n",
    "    )\n",
    "fig = go.Figure(data=plot_data, layout=plot_layout)\n",
    "pyoff.iplot(fig)"
   ]
  },
  {
   "cell_type": "code",
   "execution_count": null,
   "metadata": {
    "id": "JWmxjh2ey7CV",
    "outputId": "a80e996b-53af-495c-92ab-a4cc4396be80"
   },
   "outputs": [],
   "source": [
    "#apply clustering\n",
    "kmeans = KMeans(n_clusters=4)\n",
    "kmeans.fit(tx_user[['Revenue']])\n",
    "tx_user['RevenueCluster'] = kmeans.predict(tx_user[['Revenue']])\n",
    "\n",
    "#order the cluster numbers\n",
    "tx_user = order_cluster('RevenueCluster', 'Revenue', tx_user, True)\n",
    "\n",
    "#show details of the dataframe\n",
    "tx_user.groupby('RevenueCluster')['Revenue'].describe()"
   ]
  },
  {
   "cell_type": "markdown",
   "metadata": {
    "id": "zYVwdiaYy7CX"
   },
   "source": [
    "# Final Score to rank customer"
   ]
  },
  {
   "cell_type": "code",
   "execution_count": null,
   "metadata": {
    "id": "CnoPYAa6y7CY"
   },
   "outputs": [],
   "source": [
    "#calculate overall score and use mean() to see details\n",
    "w = {'Recency': 1,\n",
    "     'Frequency': 1,\n",
    "     'Revenue': 1}\n",
    "tx_user['OverallScore'] = (w['Recency'] * tx_user['RecencyCluster']) + (w['Frequency'] * tx_user['FrequencyCluster']) + (w['Revenue'] + tx_user['RevenueCluster'])"
   ]
  },
  {
   "cell_type": "code",
   "execution_count": null,
   "metadata": {
    "id": "lh2cvydGy7Cc",
    "outputId": "573804a1-063d-4cab-c7c4-f6ee4d587894"
   },
   "outputs": [],
   "source": [
    "tx_user.groupby('OverallScore')[['Recency','Frequency','Revenue']].mean()"
   ]
  },
  {
   "cell_type": "code",
   "execution_count": null,
   "metadata": {
    "id": "NRl4jzaqy7Ce",
    "outputId": "a9e04c0e-8642-42ee-eb2f-b19c2ea40fa0"
   },
   "outputs": [],
   "source": [
    "tx_user[tx_user['OverallScore'] == 8]"
   ]
  },
  {
   "cell_type": "code",
   "execution_count": null,
   "metadata": {
    "id": "J4cBls90y7Ch",
    "outputId": "45db8db8-d7b6-44ad-e85c-d85863ba67f3"
   },
   "outputs": [],
   "source": [
    "tx_user"
   ]
  },
  {
   "cell_type": "code",
   "execution_count": null,
   "metadata": {
    "id": "yN4z-aWny7Cj",
    "outputId": "7cad9769-062d-44c0-e8ef-e38259c1f99a"
   },
   "outputs": [],
   "source": [
    "tx_user[tx_user['CustomerID'] == 17450.0]['OverallScore']"
   ]
  },
  {
   "cell_type": "code",
   "execution_count": null,
   "metadata": {
    "id": "FOA6SewAy7Cl",
    "outputId": "8af70124-bcc8-4a8e-ce7c-da2eda1beba4"
   },
   "outputs": [],
   "source": [
    "tx_user.sort_values(by=['OverallScore'], ascending=False)[['CustomerID', 'OverallScore']]"
   ]
  },
  {
   "cell_type": "code",
   "execution_count": null,
   "metadata": {
    "id": "cPLCIFviy7Co"
   },
   "outputs": [],
   "source": [
    "tx_user['Segment'] = 'Low-Value'\n",
    "tx_user.loc[tx_user['OverallScore']>2,'Segment'] = 'Mid-Value' \n",
    "tx_user.loc[tx_user['OverallScore']>4,'Segment'] = 'High-Value' "
   ]
  },
  {
   "cell_type": "code",
   "execution_count": null,
   "metadata": {
    "id": "8Gu_mueuy7Cq",
    "outputId": "8a89d9e8-1c04-46de-a379-f9bcb34cbfa3"
   },
   "outputs": [],
   "source": [
    "#Revenue vs Frequency\n",
    "tx_graph = tx_user.query(\"Revenue < 50000 and Frequency < 2000\")\n",
    "\n",
    "plot_data = [\n",
    "    go.Scatter(\n",
    "        x=tx_graph.query(\"Segment == 'Low-Value'\")['Frequency'],\n",
    "        y=tx_graph.query(\"Segment == 'Low-Value'\")['Revenue'],\n",
    "        mode='markers',\n",
    "        name='Low',\n",
    "        marker= dict(size= 7,\n",
    "            line= dict(width=1),\n",
    "            color= 'blue',\n",
    "            opacity= 0.8\n",
    "           )\n",
    "    ),\n",
    "        go.Scatter(\n",
    "        x=tx_graph.query(\"Segment == 'Mid-Value'\")['Frequency'],\n",
    "        y=tx_graph.query(\"Segment == 'Mid-Value'\")['Revenue'],\n",
    "        mode='markers',\n",
    "        name='Mid',\n",
    "        marker= dict(size= 9,\n",
    "            line= dict(width=1),\n",
    "            color= 'green',\n",
    "            opacity= 0.5\n",
    "           )\n",
    "    ),\n",
    "        go.Scatter(\n",
    "        x=tx_graph.query(\"Segment == 'High-Value'\")['Frequency'],\n",
    "        y=tx_graph.query(\"Segment == 'High-Value'\")['Revenue'],\n",
    "        mode='markers',\n",
    "        name='High',\n",
    "        marker= dict(size= 11,\n",
    "            line= dict(width=1),\n",
    "            color= 'red',\n",
    "            opacity= 0.9\n",
    "           )\n",
    "    ),\n",
    "]\n",
    "\n",
    "plot_layout = go.Layout(\n",
    "        yaxis= {'title': \"Revenue\"},\n",
    "        xaxis= {'title': \"Frequency\"},\n",
    "        title='Segments'\n",
    "    )\n",
    "fig = go.Figure(data=plot_data, layout=plot_layout)\n",
    "pyoff.iplot(fig)\n",
    "\n",
    "#Revenue Recency\n",
    "\n",
    "tx_graph = tx_user.query(\"Revenue < 50000 and Frequency < 2000\")\n",
    "\n",
    "plot_data = [\n",
    "    go.Scatter(\n",
    "        x=tx_graph.query(\"Segment == 'Low-Value'\")['Recency'],\n",
    "        y=tx_graph.query(\"Segment == 'Low-Value'\")['Revenue'],\n",
    "        mode='markers',\n",
    "        name='Low',\n",
    "        marker= dict(size= 7,\n",
    "            line= dict(width=1),\n",
    "            color= 'blue',\n",
    "            opacity= 0.8\n",
    "           )\n",
    "    ),\n",
    "        go.Scatter(\n",
    "        x=tx_graph.query(\"Segment == 'Mid-Value'\")['Recency'],\n",
    "        y=tx_graph.query(\"Segment == 'Mid-Value'\")['Revenue'],\n",
    "        mode='markers',\n",
    "        name='Mid',\n",
    "        marker= dict(size= 9,\n",
    "            line= dict(width=1),\n",
    "            color= 'green',\n",
    "            opacity= 0.5\n",
    "           )\n",
    "    ),\n",
    "        go.Scatter(\n",
    "        x=tx_graph.query(\"Segment == 'High-Value'\")['Recency'],\n",
    "        y=tx_graph.query(\"Segment == 'High-Value'\")['Revenue'],\n",
    "        mode='markers',\n",
    "        name='High',\n",
    "        marker= dict(size= 11,\n",
    "            line= dict(width=1),\n",
    "            color= 'red',\n",
    "            opacity= 0.9\n",
    "           )\n",
    "    ),\n",
    "]\n",
    "\n",
    "plot_layout = go.Layout(\n",
    "        yaxis= {'title': \"Revenue\"},\n",
    "        xaxis= {'title': \"Recency\"},\n",
    "        title='Segments'\n",
    "    )\n",
    "fig = go.Figure(data=plot_data, layout=plot_layout)\n",
    "pyoff.iplot(fig)\n",
    "\n",
    "# Revenue vs Frequency\n",
    "tx_graph = tx_user.query(\"Revenue < 50000 and Frequency < 2000\")\n",
    "\n",
    "plot_data = [\n",
    "    go.Scatter(\n",
    "        x=tx_graph.query(\"Segment == 'Low-Value'\")['Recency'],\n",
    "        y=tx_graph.query(\"Segment == 'Low-Value'\")['Frequency'],\n",
    "        mode='markers',\n",
    "        name='Low',\n",
    "        marker= dict(size= 7,\n",
    "            line= dict(width=1),\n",
    "            color= 'blue',\n",
    "            opacity= 0.8\n",
    "           )\n",
    "    ),\n",
    "        go.Scatter(\n",
    "        x=tx_graph.query(\"Segment == 'Mid-Value'\")['Recency'],\n",
    "        y=tx_graph.query(\"Segment == 'Mid-Value'\")['Frequency'],\n",
    "        mode='markers',\n",
    "        name='Mid',\n",
    "        marker= dict(size= 9,\n",
    "            line= dict(width=1),\n",
    "            color= 'green',\n",
    "            opacity= 0.5\n",
    "           )\n",
    "    ),\n",
    "        go.Scatter(\n",
    "        x=tx_graph.query(\"Segment == 'High-Value'\")['Recency'],\n",
    "        y=tx_graph.query(\"Segment == 'High-Value'\")['Frequency'],\n",
    "        mode='markers',\n",
    "        name='High',\n",
    "        marker= dict(size= 11,\n",
    "            line= dict(width=1),\n",
    "            color= 'red',\n",
    "            opacity= 0.9\n",
    "           )\n",
    "    ),\n",
    "]\n",
    "\n",
    "plot_layout = go.Layout(\n",
    "        yaxis= {'title': \"Frequency\"},\n",
    "        xaxis= {'title': \"Recency\"},\n",
    "        title='Segments'\n",
    "    )\n",
    "fig = go.Figure(data=plot_data, layout=plot_layout)\n",
    "pyoff.iplot(fig)"
   ]
  },
  {
   "cell_type": "markdown",
   "metadata": {
    "id": "mDok1aOhy7Cv"
   },
   "source": [
    "***\n",
    "\n",
    "# Alternatively, let's try to apply K-Means clustering on all three features altogether.\n",
    "\n",
    "\n",
    "We can directly use Recency, together with the other two Frequency and Monetary (Revenue) in clustering.    \n",
    "But when we try to order the clusters by using cluster IDs as grades, ranking by Recency producing the ranking different from ther other two because The lower the Recency is, the higher grade (score) cluster ID based on Recency is. So, we need to perform the inversion of Recency. "
   ]
  },
  {
   "cell_type": "code",
   "execution_count": null,
   "metadata": {},
   "outputs": [],
   "source": [
    "tx_user['Inverse_Recency'] = (tx_user['Recency'].max() - tx_user['Recency'])\n",
    "tx_user"
   ]
  },
  {
   "cell_type": "code",
   "execution_count": null,
   "metadata": {},
   "outputs": [],
   "source": [
    "#apply clustering\n",
    "kmeans = KMeans(n_clusters=4)\n",
    "kmeans.fit(tx_user[['Inverse_Recency', 'Frequency', 'Revenue']])\n",
    "tx_user['RFMCluster'] = kmeans.predict(tx_user[['Inverse_Recency', 'Frequency', 'Revenue']])\n",
    "\n",
    "\n",
    "#order the cluster numbers\n",
    "tx_user = order_cluster('RFMCluster', ['Revenue', 'Frequency', 'Inverse_Recency'], tx_user, True)\n",
    "\n",
    "pd.set_option('display.max_rows', None)\n",
    "pd.set_option('display.float_format', lambda x: '%.2f' % x)\n",
    "tx_user.sort_values(by=['RFMCluster'])[['Inverse_Recency', 'Frequency', 'Revenue', 'RFMCluster']]"
   ]
  },
  {
   "cell_type": "code",
   "execution_count": null,
   "metadata": {},
   "outputs": [],
   "source": [
    "# #show details of the dataframe\n",
    "tx_user.groupby('RFMCluster')[['Inverse_Recency', 'Frequency', 'Revenue', 'RFMCluster']].describe()"
   ]
  },
  {
   "cell_type": "markdown",
   "metadata": {},
   "source": [
    "# Creating a 3D Scatter Plot\n",
    "\n",
    "['Creating a 3D Scatter Plot']('https://medium.com/@rodrigodutcosky/creating-a-3d-scatter-plot-from-your-clustered-data-with-plotly-843c20b78799')"
   ]
  },
  {
   "cell_type": "code",
   "execution_count": null,
   "metadata": {},
   "outputs": [],
   "source": [
    "import plotly.graph_objects as go\n",
    "\n",
    "plot = go.Figure()\n",
    "    \n",
    "\n",
    "for c in list(tx_user.RFMCluster.unique()):\n",
    "    \n",
    "    plot.add_trace(go.Scatter3d(x = tx_user[tx_user.RFMCluster == c]['Inverse_Recency'],\n",
    "                                y = tx_user[tx_user.RFMCluster == c]['Frequency'],\n",
    "                                z = tx_user[tx_user.RFMCluster == c]['Revenue'],\n",
    "                                mode = 'markers', marker_size = 8, marker_line_width = 1,\n",
    "                                name = 'Cluster ' + str(c)))\n",
    "\n",
    "\n",
    "plot.update_layout(width = 800, height = 800, autosize = True, showlegend = True,\n",
    "                   scene = dict(xaxis=dict(title = 'Inverse_Recency', titlefont_color = 'black'),\n",
    "                                yaxis=dict(title = 'Frequency', titlefont_color = 'black'),\n",
    "                                zaxis=dict(title = 'Revenue', titlefont_color = 'black')),\n",
    "                   font = dict(family = \"Gilroy\", color  = 'black', size = 12))"
   ]
  },
  {
   "cell_type": "code",
   "execution_count": null,
   "metadata": {},
   "outputs": [],
   "source": []
  },
  {
   "cell_type": "code",
   "execution_count": null,
   "metadata": {},
   "outputs": [],
   "source": []
  },
  {
   "cell_type": "code",
   "execution_count": null,
   "metadata": {},
   "outputs": [],
   "source": []
  },
  {
   "cell_type": "code",
   "execution_count": null,
   "metadata": {},
   "outputs": [],
   "source": []
  }
 ],
 "metadata": {
  "colab": {
   "name": "RFM_Example.ipynb",
   "provenance": []
  },
  "kernelspec": {
   "display_name": "Python 3",
   "language": "python",
   "name": "python3"
  },
  "language_info": {
   "codemirror_mode": {
    "name": "ipython",
    "version": 3
   },
   "file_extension": ".py",
   "mimetype": "text/x-python",
   "name": "python",
   "nbconvert_exporter": "python",
   "pygments_lexer": "ipython3",
   "version": "3.7.6"
  }
 },
 "nbformat": 4,
 "nbformat_minor": 1
}
