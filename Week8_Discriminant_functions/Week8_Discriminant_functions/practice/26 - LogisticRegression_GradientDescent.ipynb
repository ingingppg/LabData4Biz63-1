{
 "cells": [
  {
   "cell_type": "markdown",
   "metadata": {
    "id": "uTHeoo7MjObR"
   },
   "source": [
    "# Visualize Logistic Regression and Gradient Descent\n",
    "\n",
    "Term 1 2020 - Instructor: Teerapong Leelanupab\n",
    "\n",
    "Teaching Assistant: \n",
    "1. Tiwipab Meephruek (Mil)\n",
    "2. Jiratkul Wangsiripaisarn (Brooklyn)\n",
    "3. Hataichanok Sakkara (Pond)\n",
    "***"
   ]
  },
  {
   "cell_type": "markdown",
   "metadata": {},
   "source": [
    "## Import library"
   ]
  },
  {
   "cell_type": "code",
   "execution_count": 1,
   "metadata": {
    "id": "Epp0gyXyJbW5"
   },
   "outputs": [],
   "source": [
    "import pandas as pd\n",
    "import numpy as np\n",
    "import matplotlib.pyplot as plt\n",
    "\n",
    "import imageio\n",
    "from tqdm import tqdm"
   ]
  },
  {
   "cell_type": "markdown",
   "metadata": {
    "id": "nxQx1iDsjTlw"
   },
   "source": [
    "## Create dataset"
   ]
  },
  {
   "cell_type": "code",
   "execution_count": 2,
   "metadata": {},
   "outputs": [],
   "source": [
    "np.random.seed(1) # กำหนด random seed ไว้ เพื่อให้ได้ตัวเลขชุดเดิมเวลากลับมารันใหม่\n",
    "\n",
    "X = np.random.random(100) # สุ่มตัวเลขมา 100 ค่า จาก uniform distribution [0,1) \n",
    "noise = np.random.randn(100) # สุ่มตัวเลขมา 100 ค่า จาก standard normal distribution (mean=0, std=1)\n",
    "\n",
    "Y =  3 + 2*X + (noise*0.25)"
   ]
  },
  {
   "cell_type": "code",
   "execution_count": 3,
   "metadata": {},
   "outputs": [
    {
     "data": {
      "text/plain": [
       "array([3.91295275, 3.93509868, 2.92367775, 3.81165881, 3.35103547,\n",
       "       3.37517998, 3.31693839, 3.64093194, 3.8401753 , 4.18014638,\n",
       "       3.88796396, 4.40019116, 3.24123893, 4.85062582, 3.0852305 ,\n",
       "       4.623306  , 4.13433907, 4.16366876, 3.18695264, 3.23652038,\n",
       "       4.70736273, 4.95585817, 3.54088494, 4.39554445, 4.59777809,\n",
       "       4.96372134, 3.05830628, 3.38423649, 3.44053375, 4.90467964,\n",
       "       2.92296571, 3.88456086, 5.10091817, 3.82790542, 4.3171996 ,\n",
       "       3.6391849 , 4.02972253, 4.74804119, 3.24811672, 4.28540964,\n",
       "       5.06535867, 4.16826046, 3.55121411, 4.17461557, 3.48680644,\n",
       "       3.99801219, 4.81103677, 3.39343789, 3.89398966, 3.75183258,\n",
       "       2.57423845, 4.66671207, 3.83016892, 3.61559624, 3.68332931,\n",
       "       3.32256142, 4.10300514, 3.14247699, 3.87109654, 4.53715109,\n",
       "       3.40287057, 3.67222929, 4.5189444 , 3.54227319, 3.30037218,\n",
       "       4.08343464, 4.28094685, 4.00434176, 5.10641105, 4.36071299,\n",
       "       4.93917016, 3.30937471, 3.29800798, 4.76937764, 3.85347731,\n",
       "       3.50134625, 4.77748797, 3.08682228, 4.76133036, 4.99874088,\n",
       "       4.87695329, 4.22230561, 4.46777368, 3.66803314, 3.54420814,\n",
       "       4.51126775, 3.72690877, 4.68042339, 4.38908279, 4.16923115,\n",
       "       3.35329478, 4.85530273, 4.14640806, 4.2101627 , 4.36394854,\n",
       "       2.99996373, 4.64502987, 4.3727307 , 3.63782208, 4.17213113])"
      ]
     },
     "execution_count": 3,
     "metadata": {},
     "output_type": "execute_result"
    }
   ],
   "source": [
    "Y"
   ]
  },
  {
   "cell_type": "code",
   "execution_count": 4,
   "metadata": {},
   "outputs": [
    {
     "data": {
      "image/png": "[encoded data removed]",
      "text/plain": [
       "<Figure size 432x288 with 1 Axes>"
      ]
     },
     "metadata": {
      "needs_background": "light"
     },
     "output_type": "display_data"
    }
   ],
   "source": [
    "# Plot graph เพื่อดูความสัมพันธ์ของข้อมูล\n",
    "plt.scatter(X, Y)\n",
    "plt.xlabel('X')\n",
    "plt.ylabel('Y')\n",
    "plt.show()"
   ]
  },
  {
   "cell_type": "code",
   "execution_count": 5,
   "metadata": {},
   "outputs": [
    {
     "data": {
      "text/html": [
       "<div>\n",
       "<style scoped>\n",
       "    .dataframe tbody tr th:only-of-type {\n",
       "        vertical-align: middle;\n",
       "    }\n",
       "\n",
       "    .dataframe tbody tr th {\n",
       "        vertical-align: top;\n",
       "    }\n",
       "\n",
       "    .dataframe thead th {\n",
       "        text-align: right;\n",
       "    }\n",
       "</style>\n",
       "<table border=\"1\" class=\"dataframe\">\n",
       "  <thead>\n",
       "    <tr style=\"text-align: right;\">\n",
       "      <th></th>\n",
       "      <th>0</th>\n",
       "      <th>1</th>\n",
       "    </tr>\n",
       "  </thead>\n",
       "  <tbody>\n",
       "    <tr>\n",
       "      <th>0</th>\n",
       "      <td>0.417022</td>\n",
       "      <td>3.912953</td>\n",
       "    </tr>\n",
       "    <tr>\n",
       "      <th>1</th>\n",
       "      <td>0.720324</td>\n",
       "      <td>3.935099</td>\n",
       "    </tr>\n",
       "    <tr>\n",
       "      <th>2</th>\n",
       "      <td>0.000114</td>\n",
       "      <td>2.923678</td>\n",
       "    </tr>\n",
       "    <tr>\n",
       "      <th>3</th>\n",
       "      <td>0.302333</td>\n",
       "      <td>3.811659</td>\n",
       "    </tr>\n",
       "    <tr>\n",
       "      <th>4</th>\n",
       "      <td>0.146756</td>\n",
       "      <td>3.351035</td>\n",
       "    </tr>\n",
       "    <tr>\n",
       "      <th>...</th>\n",
       "      <td>...</td>\n",
       "      <td>...</td>\n",
       "    </tr>\n",
       "    <tr>\n",
       "      <th>95</th>\n",
       "      <td>0.237027</td>\n",
       "      <td>2.999964</td>\n",
       "    </tr>\n",
       "    <tr>\n",
       "      <th>96</th>\n",
       "      <td>0.903380</td>\n",
       "      <td>4.645030</td>\n",
       "    </tr>\n",
       "    <tr>\n",
       "      <th>97</th>\n",
       "      <td>0.573679</td>\n",
       "      <td>4.372731</td>\n",
       "    </tr>\n",
       "    <tr>\n",
       "      <th>98</th>\n",
       "      <td>0.002870</td>\n",
       "      <td>3.637822</td>\n",
       "    </tr>\n",
       "    <tr>\n",
       "      <th>99</th>\n",
       "      <td>0.617145</td>\n",
       "      <td>4.172131</td>\n",
       "    </tr>\n",
       "  </tbody>\n",
       "</table>\n",
       "<p>100 rows × 2 columns</p>\n",
       "</div>"
      ],
      "text/plain": [
       "           0         1\n",
       "0   0.417022  3.912953\n",
       "1   0.720324  3.935099\n",
       "2   0.000114  2.923678\n",
       "3   0.302333  3.811659\n",
       "4   0.146756  3.351035\n",
       "..       ...       ...\n",
       "95  0.237027  2.999964\n",
       "96  0.903380  4.645030\n",
       "97  0.573679  4.372731\n",
       "98  0.002870  3.637822\n",
       "99  0.617145  4.172131\n",
       "\n",
       "[100 rows x 2 columns]"
      ]
     },
     "execution_count": 5,
     "metadata": {},
     "output_type": "execute_result"
    }
   ],
   "source": [
    "xy = [(x, y) for x, y in zip(X, Y)]\n",
    "df = pd.DataFrame(xy)\n",
    "df"
   ]
  },
  {
   "cell_type": "code",
   "execution_count": 6,
   "metadata": {},
   "outputs": [
    {
     "data": {
      "text/html": [
       "<div>\n",
       "<style scoped>\n",
       "    .dataframe tbody tr th:only-of-type {\n",
       "        vertical-align: middle;\n",
       "    }\n",
       "\n",
       "    .dataframe tbody tr th {\n",
       "        vertical-align: top;\n",
       "    }\n",
       "\n",
       "    .dataframe thead th {\n",
       "        text-align: right;\n",
       "    }\n",
       "</style>\n",
       "<table border=\"1\" class=\"dataframe\">\n",
       "  <thead>\n",
       "    <tr style=\"text-align: right;\">\n",
       "      <th></th>\n",
       "      <th>carat</th>\n",
       "      <th>price_10k</th>\n",
       "    </tr>\n",
       "  </thead>\n",
       "  <tbody>\n",
       "    <tr>\n",
       "      <th>0</th>\n",
       "      <td>0.417022</td>\n",
       "      <td>3.912953</td>\n",
       "    </tr>\n",
       "    <tr>\n",
       "      <th>1</th>\n",
       "      <td>0.720324</td>\n",
       "      <td>3.935099</td>\n",
       "    </tr>\n",
       "    <tr>\n",
       "      <th>2</th>\n",
       "      <td>0.000114</td>\n",
       "      <td>2.923678</td>\n",
       "    </tr>\n",
       "    <tr>\n",
       "      <th>3</th>\n",
       "      <td>0.302333</td>\n",
       "      <td>3.811659</td>\n",
       "    </tr>\n",
       "    <tr>\n",
       "      <th>4</th>\n",
       "      <td>0.146756</td>\n",
       "      <td>3.351035</td>\n",
       "    </tr>\n",
       "    <tr>\n",
       "      <th>...</th>\n",
       "      <td>...</td>\n",
       "      <td>...</td>\n",
       "    </tr>\n",
       "    <tr>\n",
       "      <th>95</th>\n",
       "      <td>0.237027</td>\n",
       "      <td>2.999964</td>\n",
       "    </tr>\n",
       "    <tr>\n",
       "      <th>96</th>\n",
       "      <td>0.903380</td>\n",
       "      <td>4.645030</td>\n",
       "    </tr>\n",
       "    <tr>\n",
       "      <th>97</th>\n",
       "      <td>0.573679</td>\n",
       "      <td>4.372731</td>\n",
       "    </tr>\n",
       "    <tr>\n",
       "      <th>98</th>\n",
       "      <td>0.002870</td>\n",
       "      <td>3.637822</td>\n",
       "    </tr>\n",
       "    <tr>\n",
       "      <th>99</th>\n",
       "      <td>0.617145</td>\n",
       "      <td>4.172131</td>\n",
       "    </tr>\n",
       "  </tbody>\n",
       "</table>\n",
       "<p>100 rows × 2 columns</p>\n",
       "</div>"
      ],
      "text/plain": [
       "       carat  price_10k\n",
       "0   0.417022   3.912953\n",
       "1   0.720324   3.935099\n",
       "2   0.000114   2.923678\n",
       "3   0.302333   3.811659\n",
       "4   0.146756   3.351035\n",
       "..       ...        ...\n",
       "95  0.237027   2.999964\n",
       "96  0.903380   4.645030\n",
       "97  0.573679   4.372731\n",
       "98  0.002870   3.637822\n",
       "99  0.617145   4.172131\n",
       "\n",
       "[100 rows x 2 columns]"
      ]
     },
     "execution_count": 6,
     "metadata": {},
     "output_type": "execute_result"
    }
   ],
   "source": [
    "df.columns = ['carat', 'price_10k']\n",
    "df"
   ]
  },
  {
   "cell_type": "code",
   "execution_count": null,
   "metadata": {},
   "outputs": [],
   "source": []
  },
  {
   "cell_type": "code",
   "execution_count": null,
   "metadata": {},
   "outputs": [],
   "source": []
  },
  {
   "cell_type": "code",
   "execution_count": 7,
   "metadata": {
    "id": "Q8_MxrHijCHW"
   },
   "outputs": [],
   "source": [
    "# np.random.seed(1) # กำหนด random seed ไว้ เพื่อให้ได้ตัวเลขชุดเดิมเวลากลับมารันใหม่\n",
    "\n",
    "# X1 = np.random.random(100) # สุ่มตัวเลขมา 100 ค่า จาก uniform distribution [0,1) \n",
    "# X2 = np.random.random(100)\n",
    "# noise = np.random.randn(100) # สุ่มตัวเลขมา 100 ค่า จาก standard normal distribution (mean=0, std=1)\n",
    "\n",
    "# tmp = 3*X1 + 3*X2 + 3\n",
    "# Y = (X2 >= 0.6)"
   ]
  },
  {
   "cell_type": "code",
   "execution_count": 8,
   "metadata": {
    "colab": {
     "base_uri": "https://localhost:8080/",
     "height": 357
    },
    "id": "TijAM_jw2mQi",
    "outputId": "36c73b1a-4625-4206-d027-a8c8cdf66b4b"
   },
   "outputs": [],
   "source": [
    "# tmp"
   ]
  },
  {
   "cell_type": "code",
   "execution_count": 9,
   "metadata": {
    "colab": {
     "base_uri": "https://localhost:8080/",
     "height": 279
    },
    "id": "wbL6jYdojRUI",
    "outputId": "c4833b01-6142-4fef-d25a-79a2a72d72ba"
   },
   "outputs": [],
   "source": [
    "# # Plot graph เพื่อดูความสัมพันธ์ของข้อมูล\n",
    "# plt.scatter(X2,X1, c=Y)\n",
    "# plt.xlabel('X1')\n",
    "# plt.ylabel('X2')\n",
    "# plt.show()"
   ]
  },
  {
   "cell_type": "markdown",
   "metadata": {
    "id": "x9YUyBnPmKma"
   },
   "source": [
    "## Error Function\n",
    "\n",
    "ref: zip() function  \n",
    "https://www.w3schools.com/python/ref_func_zip.asp"
   ]
  },
  {
   "cell_type": "code",
   "execution_count": 10,
   "metadata": {
    "id": "aXPzxOHYjmt8"
   },
   "outputs": [],
   "source": [
    "# สร้าง function ที่ใช้วัด ค่า error ที่เกิดขึ้น \n",
    "# จากการใช้ สมการเส้นตรง Y_hat = w0 + w1*X  มาเทียบกับข้อมูล Y\n",
    "\n",
    "def compute_mse(X, Y, w0, w1):\n",
    "    # สร้างสมการเส้นตรงตามค่า w0, w1 ที่กำหนด\n",
    "    Y_hat = w0 + w1*X\n",
    "\n",
    "    # วน loop เพื่อคำนวณค่า error ที่เกิดขึ้นในทุกๆ data point\n",
    "    # แล้วนำมารวมกันที่ ตัวแปร totol_error\n",
    "    total_error = 0\n",
    "    for y, y_hat in zip(Y, Y_hat):\n",
    "        error = (y-y_hat)**2\n",
    "        total_error += error \n",
    "\n",
    "    # คำนวณค่าเฉลี่ยของ error ที่เกิดขึ้น - หารด้วย 2m หรือ 2|X| \n",
    "    mse = total_error / (2 * len(X))\n",
    "\n",
    "    return mse"
   ]
  },
  {
   "cell_type": "markdown",
   "metadata": {},
   "source": [
    "### Test our error function"
   ]
  },
  {
   "cell_type": "code",
   "execution_count": 11,
   "metadata": {},
   "outputs": [
    {
     "data": {
      "text/plain": [
       "21.142299784375766"
      ]
     },
     "execution_count": 11,
     "metadata": {},
     "output_type": "execute_result"
    }
   ],
   "source": [
    "w0 = 10 #B0\n",
    "w1 = 1 #B1\n",
    "compute_mse(X, Y, w0, w1)\n",
    "# it works"
   ]
  },
  {
   "cell_type": "markdown",
   "metadata": {
    "id": "tnGaA7hqnZP4"
   },
   "source": [
    "## Plot Error vs Weights"
   ]
  },
  {
   "cell_type": "code",
   "execution_count": 12,
   "metadata": {
    "colab": {
     "base_uri": "https://localhost:8080/",
     "height": 295
    },
    "id": "v2vn9-tBjACE",
    "outputId": "e6dc40a3-ade9-45aa-d784-e51e8f446c65",
    "scrolled": true
   },
   "outputs": [
    {
     "data": {
      "image/png": "[encoded data removed]",
      "text/plain": [
       "<Figure size 432x288 with 1 Axes>"
      ]
     },
     "metadata": {
      "needs_background": "light"
     },
     "output_type": "display_data"
    }
   ],
   "source": [
    "# ทำการสร้างกราฟของ Error เทียบ w0\n",
    "w0_list = [] #intercept\n",
    "error_list_by_w0 = []\n",
    "\n",
    "w1 = 2 #slope\n",
    "\n",
    "for w0 in range(-10, 30):\n",
    "    error = compute_mse(X, Y, w0, w1) # Get the J(X) \n",
    "    error_list_by_w0.append(error)\n",
    "    w0_list.append(w0)\n",
    "\n",
    "    \n",
    "plt.title('Error vs w0')\n",
    "plt.scatter(w0_list, error_list_by_w0)\n",
    "plt.ylabel('Error')\n",
    "plt.xlabel('w0')\n",
    "plt.show()"
   ]
  },
  {
   "cell_type": "code",
   "execution_count": 13,
   "metadata": {},
   "outputs": [
    {
     "data": {
      "text/plain": [
       "0.025481252320472502"
      ]
     },
     "execution_count": 13,
     "metadata": {},
     "output_type": "execute_result"
    }
   ],
   "source": [
    "min(error_list_by_w0) #find min mse"
   ]
  },
  {
   "cell_type": "code",
   "execution_count": 14,
   "metadata": {},
   "outputs": [
    {
     "data": {
      "text/plain": [
       "13"
      ]
     },
     "execution_count": 14,
     "metadata": {},
     "output_type": "execute_result"
    }
   ],
   "source": [
    "np.argmin(error_list_by_w0) #find index"
   ]
  },
  {
   "cell_type": "code",
   "execution_count": 15,
   "metadata": {},
   "outputs": [
    {
     "data": {
      "text/plain": [
       "3"
      ]
     },
     "execution_count": 15,
     "metadata": {},
     "output_type": "execute_result"
    }
   ],
   "source": [
    "w0_list[np.argmin(error_list_by_w0)] #B0"
   ]
  },
  {
   "cell_type": "code",
   "execution_count": 16,
   "metadata": {
    "colab": {
     "base_uri": "https://localhost:8080/",
     "height": 295
    },
    "id": "tZlP-nE1nmaI",
    "outputId": "bbad92a5-ba72-4e48-b6b5-4118f1c7d956"
   },
   "outputs": [
    {
     "data": {
      "image/png": "[encoded data removed]",
      "text/plain": [
       "<Figure size 432x288 with 1 Axes>"
      ]
     },
     "metadata": {
      "needs_background": "light"
     },
     "output_type": "display_data"
    }
   ],
   "source": [
    "# ทำการสร้างกราฟของ Error เทียบ w1\n",
    "w1_list = [] #slope\n",
    "error_list_by_w1 = []\n",
    "\n",
    "w0 = 2 #intercept\n",
    "\n",
    "for w1 in range(-10,30):\n",
    "    error = compute_mse(X, Y, w0, w1)\n",
    "    error_list_by_w1.append(error)\n",
    "    w1_list.append(w1)\n",
    "\n",
    "plt.title('Error vs w1')\n",
    "plt.scatter(w1_list, error_list_by_w1)\n",
    "plt.ylabel('Error')\n",
    "plt.xlabel('w1')\n",
    "plt.show()"
   ]
  },
  {
   "cell_type": "code",
   "execution_count": 17,
   "metadata": {
    "colab": {
     "base_uri": "https://localhost:8080/",
     "height": 295
    },
    "id": "rzlVzscuoPjh",
    "outputId": "c90cf585-1b42-4b5e-a985-3ad33581e984"
   },
   "outputs": [
    {
     "data": {
      "image/png": "[encoded data removed]",
      "text/plain": [
       "<Figure size 432x288 with 1 Axes>"
      ]
     },
     "metadata": {
      "needs_background": "light"
     },
     "output_type": "display_data"
    }
   ],
   "source": [
    "# Plot error เทียบกับ w0, w1 ลงในกราฟเดียวกัน\n",
    "plt.title('Error vs W')\n",
    "plt.scatter(w0_list, error_list_by_w0)\n",
    "plt.scatter(w1_list, error_list_by_w1)\n",
    "plt.ylabel('Error')\n",
    "plt.xlabel('W')\n",
    "plt.legend(['w0', 'w1'])\n",
    "plt.show()"
   ]
  },
  {
   "cell_type": "markdown",
   "metadata": {
    "id": "JxwiKmJ9o0wV"
   },
   "source": [
    "# Plot linear regression vs data points"
   ]
  },
  {
   "cell_type": "code",
   "execution_count": 18,
   "metadata": {
    "id": "1fHqcpNBjAFu"
   },
   "outputs": [],
   "source": [
    "def plot_line(X, Y, w0, w1, save_fig=False):\n",
    "    X_dummy = np.linspace(0,1,10)\n",
    "    Y_hat = w0 + w1*X_dummy\n",
    "\n",
    "    error = compute_mse(X,Y, w0, w1)\n",
    "\n",
    "    plt.scatter(X,Y)\n",
    "    plt.plot(X_dummy, Y_hat, '-r')\n",
    "    plt.ylim(0,np.max(Y)+1)\n",
    "    plt.title(f'w0 = {np.round(w0, 5)} , w1 = {np.round(w1, 5)} \\n error = {np.round(error, 5)}')\n",
    "\n",
    "    if save_fig:\n",
    "        plt.savefig('image.png')\n",
    "        plt.close()\n",
    "        return None\n",
    "\n",
    "    plt.show()"
   ]
  },
  {
   "cell_type": "code",
   "execution_count": 19,
   "metadata": {
    "colab": {
     "base_uri": "https://localhost:8080/",
     "height": 296
    },
    "id": "LuHG-X5cpBMl",
    "outputId": "b7c6c833-ae92-48f7-8ced-fba572ecb655"
   },
   "outputs": [
    {
     "data": {
      "image/png": "[encoded data removed]",
      "text/plain": [
       "<Figure size 432x288 with 1 Axes>"
      ]
     },
     "metadata": {
      "needs_background": "light"
     },
     "output_type": "display_data"
    }
   ],
   "source": [
    "plot_line(X, Y, w0=2, w1=5)"
   ]
  },
  {
   "cell_type": "code",
   "execution_count": 20,
   "metadata": {},
   "outputs": [
    {
     "data": {
      "image/png": "[encoded data removed]",
      "text/plain": [
       "<Figure size 432x288 with 1 Axes>"
      ]
     },
     "metadata": {
      "needs_background": "light"
     },
     "output_type": "display_data"
    }
   ],
   "source": [
    "plot_line(X, Y, w0=3, w1=-2)"
   ]
  },
  {
   "cell_type": "code",
   "execution_count": 21,
   "metadata": {
    "colab": {
     "base_uri": "https://localhost:8080/",
     "height": 296
    },
    "id": "lcWnET9lpFsc",
    "outputId": "2ce5c79c-7e9c-4ac4-f774-4e8f25a304b1"
   },
   "outputs": [
    {
     "data": {
      "image/png": "[encoded data removed]",
      "text/plain": [
       "<Figure size 432x288 with 1 Axes>"
      ]
     },
     "metadata": {
      "needs_background": "light"
     },
     "output_type": "display_data"
    }
   ],
   "source": [
    "plot_line(X, Y, w0=5, w1=2)"
   ]
  },
  {
   "cell_type": "code",
   "execution_count": 22,
   "metadata": {},
   "outputs": [
    {
     "data": {
      "image/png": "[encoded data removed]",
      "text/plain": [
       "<Figure size 432x288 with 1 Axes>"
      ]
     },
     "metadata": {
      "needs_background": "light"
     },
     "output_type": "display_data"
    }
   ],
   "source": [
    "plot_line(X, Y, w0=3, w1=2)"
   ]
  },
  {
   "cell_type": "markdown",
   "metadata": {
    "id": "M8krVvR0rDx2"
   },
   "source": [
    "# BatchGradeintDescent"
   ]
  },
  {
   "cell_type": "code",
   "execution_count": 23,
   "metadata": {
    "id": "yIZinZRUl1Tl"
   },
   "outputs": [],
   "source": [
    "def BatchGradeintDescent_Step(X, Y, w0, w1, lr):\n",
    "    # สร้างสมการเส้นตรงตามค่า w0, w1 ที่กำหนด\n",
    "    Y_hat = w0 + w1*X\n",
    "\n",
    "    # สร้างตัวแปรที่ใช้เก็บ total gradient ของ w0 กับ w1\n",
    "    total_dw0 = 0\n",
    "    total_dw1 = 0\n",
    "\n",
    "    # วน loop เพื่อทำการคำนวณค่า gradient (dw0, dw1) \n",
    "    # แล้วนำไปบวกเพิ่มในตัวแปร tottotal_dw0, total_dw1\n",
    "    for x, y, y_hat in zip(X, Y, Y_hat):\n",
    "        # คำนวนค่า delta (error ระหว่าง actual กับ prediction)\n",
    "        delta = y - y_hat\n",
    "\n",
    "        # คำนวณค่า gradient\n",
    "        dw0 = delta * 1\n",
    "        dw1 = delta * x\n",
    "\n",
    "        # บวกเพิ่มในตัวแปร total gradient\n",
    "        total_dw0 += dw0\n",
    "        total_dw1 += dw1\n",
    "\n",
    "    # หาค่าเฉลี่ยของ gradient\n",
    "    avg_dw0 = (total_dw0) / len(X)\n",
    "    avg_dw1 = (total_dw1) / len(X)\n",
    "\n",
    "    # ทำการปรับค่า w0, w1 โดยใช้ค่าเฉลี่ยของ gradient\n",
    "    w0 = w0 + lr * avg_dw0\n",
    "    w1 = w1 + lr * avg_dw1\n",
    "\n",
    "    return w0, w1"
   ]
  },
  {
   "cell_type": "code",
   "execution_count": 24,
   "metadata": {
    "colab": {
     "base_uri": "https://localhost:8080/",
     "height": 295
    },
    "id": "sqUH6RAnoF2I",
    "outputId": "89701129-a894-4e0e-f093-a99fcd42c6a2"
   },
   "outputs": [
    {
     "data": {
      "image/png": "[encoded data removed]",
      "text/plain": [
       "<Figure size 432x288 with 1 Axes>"
      ]
     },
     "metadata": {
      "needs_background": "light"
     },
     "output_type": "display_data"
    }
   ],
   "source": [
    "# กำหนดค่าเริ่มต้นของ w0, w1\n",
    "w0 = 0\n",
    "w1 = 0.5\n",
    "\n",
    "# สร้างตัวแปรไว้สำหรับเก็บข้อมูล\n",
    "w0_list = []\n",
    "w1_list = []\n",
    "error_list = []\n",
    "\n",
    "# วน loop เพื่อทำปรับค่า w0, w1 โดยใช้วิธี Batch Gradient Descent\n",
    "for i in range(200):\n",
    "    # คำนวณค่า error ที่เกิดขึ้น เมื่อใช้ w0, w1  \n",
    "    error = compute_mse(X, Y, w0, w1)\n",
    "\n",
    "    # เก็บค่า w0, w1, error ไว้ใน list\n",
    "    w0_list.append(w0)\n",
    "    w1_list.append(w1)\n",
    "    error_list.append(error)\n",
    "\n",
    "    # ปรับค่า w0, w1 โดยใช้วิธี Batch Gradient Descent\n",
    "    w0, w1 = BatchGradeintDescent_Step(X, Y, w0, w1, lr=0.05) \n",
    "\n",
    "# Plot error vs step\n",
    "plt.title('Batch Gradient Descent')\n",
    "plt.plot(error_list)\n",
    "plt.ylabel('Error')\n",
    "plt.xlabel('Step')\n",
    "plt.show()"
   ]
  },
  {
   "cell_type": "code",
   "execution_count": 25,
   "metadata": {
    "colab": {
     "base_uri": "https://localhost:8080/",
     "height": 35
    },
    "id": "rufF-GYRqKQj",
    "outputId": "bc0d13d0-c22d-458a-e42e-530829f57c49"
   },
   "outputs": [
    {
     "name": "stderr",
     "output_type": "stream",
     "text": [
      "  0%|          | 0/200 [00:00<?, ?it/s]\n"
     ]
    },
    {
     "ename": "FileNotFoundError",
     "evalue": "No such file: 'C:\\Users\\LAB203\\Documents\\GitHub\\LabData4Biz63-1\\Week8_Discriminant_functions\\Week8_Discriminant_functions\\practice\\images\\image.png'",
     "output_type": "error",
     "traceback": [
      "\u001b[1;31m---------------------------------------------------------------------------\u001b[0m",
      "\u001b[1;31mFileNotFoundError\u001b[0m                         Traceback (most recent call last)",
      "\u001b[1;32m<ipython-input-25-98ee23304402>\u001b[0m in \u001b[0;36m<module>\u001b[1;34m\u001b[0m\n\u001b[0;32m      8\u001b[0m     \u001b[0mplot_line\u001b[0m\u001b[1;33m(\u001b[0m\u001b[0mX\u001b[0m\u001b[1;33m,\u001b[0m \u001b[0mY\u001b[0m\u001b[1;33m,\u001b[0m \u001b[0mw0_list\u001b[0m\u001b[1;33m[\u001b[0m\u001b[0mi\u001b[0m\u001b[1;33m]\u001b[0m\u001b[1;33m,\u001b[0m \u001b[0mw1_list\u001b[0m\u001b[1;33m[\u001b[0m\u001b[0mi\u001b[0m\u001b[1;33m]\u001b[0m\u001b[1;33m,\u001b[0m \u001b[0msave_fig\u001b[0m\u001b[1;33m=\u001b[0m\u001b[1;32mTrue\u001b[0m\u001b[1;33m)\u001b[0m\u001b[1;33m\u001b[0m\u001b[1;33m\u001b[0m\u001b[0m\n\u001b[0;32m      9\u001b[0m \u001b[1;33m\u001b[0m\u001b[0m\n\u001b[1;32m---> 10\u001b[1;33m     \u001b[0mimages\u001b[0m\u001b[1;33m.\u001b[0m\u001b[0mappend\u001b[0m\u001b[1;33m(\u001b[0m\u001b[0mimageio\u001b[0m\u001b[1;33m.\u001b[0m\u001b[0mimread\u001b[0m\u001b[1;33m(\u001b[0m\u001b[1;34m'images/image.png'\u001b[0m\u001b[1;33m)\u001b[0m\u001b[1;33m)\u001b[0m\u001b[1;33m\u001b[0m\u001b[1;33m\u001b[0m\u001b[0m\n\u001b[0m\u001b[0;32m     11\u001b[0m \u001b[1;33m\u001b[0m\u001b[0m\n\u001b[0;32m     12\u001b[0m \u001b[0mimageio\u001b[0m\u001b[1;33m.\u001b[0m\u001b[0mmimsave\u001b[0m\u001b[1;33m(\u001b[0m\u001b[1;34m'images/Batch-GD.gif'\u001b[0m\u001b[1;33m,\u001b[0m \u001b[0mimages\u001b[0m\u001b[1;33m)\u001b[0m\u001b[1;33m\u001b[0m\u001b[1;33m\u001b[0m\u001b[0m\n",
      "\u001b[1;32m~\\anaconda3\\lib\\site-packages\\imageio\\core\\functions.py\u001b[0m in \u001b[0;36mimread\u001b[1;34m(uri, format, **kwargs)\u001b[0m\n\u001b[0;32m    262\u001b[0m \u001b[1;33m\u001b[0m\u001b[0m\n\u001b[0;32m    263\u001b[0m     \u001b[1;31m# Get reader and read first\u001b[0m\u001b[1;33m\u001b[0m\u001b[1;33m\u001b[0m\u001b[1;33m\u001b[0m\u001b[0m\n\u001b[1;32m--> 264\u001b[1;33m     \u001b[0mreader\u001b[0m \u001b[1;33m=\u001b[0m \u001b[0mread\u001b[0m\u001b[1;33m(\u001b[0m\u001b[0muri\u001b[0m\u001b[1;33m,\u001b[0m \u001b[0mformat\u001b[0m\u001b[1;33m,\u001b[0m \u001b[1;34m\"i\"\u001b[0m\u001b[1;33m,\u001b[0m \u001b[1;33m**\u001b[0m\u001b[0mkwargs\u001b[0m\u001b[1;33m)\u001b[0m\u001b[1;33m\u001b[0m\u001b[1;33m\u001b[0m\u001b[0m\n\u001b[0m\u001b[0;32m    265\u001b[0m     \u001b[1;32mwith\u001b[0m \u001b[0mreader\u001b[0m\u001b[1;33m:\u001b[0m\u001b[1;33m\u001b[0m\u001b[1;33m\u001b[0m\u001b[0m\n\u001b[0;32m    266\u001b[0m         \u001b[1;32mreturn\u001b[0m \u001b[0mreader\u001b[0m\u001b[1;33m.\u001b[0m\u001b[0mget_data\u001b[0m\u001b[1;33m(\u001b[0m\u001b[1;36m0\u001b[0m\u001b[1;33m)\u001b[0m\u001b[1;33m\u001b[0m\u001b[1;33m\u001b[0m\u001b[0m\n",
      "\u001b[1;32m~\\anaconda3\\lib\\site-packages\\imageio\\core\\functions.py\u001b[0m in \u001b[0;36mget_reader\u001b[1;34m(uri, format, mode, **kwargs)\u001b[0m\n\u001b[0;32m    171\u001b[0m \u001b[1;33m\u001b[0m\u001b[0m\n\u001b[0;32m    172\u001b[0m     \u001b[1;31m# Create request object\u001b[0m\u001b[1;33m\u001b[0m\u001b[1;33m\u001b[0m\u001b[1;33m\u001b[0m\u001b[0m\n\u001b[1;32m--> 173\u001b[1;33m     \u001b[0mrequest\u001b[0m \u001b[1;33m=\u001b[0m \u001b[0mRequest\u001b[0m\u001b[1;33m(\u001b[0m\u001b[0muri\u001b[0m\u001b[1;33m,\u001b[0m \u001b[1;34m\"r\"\u001b[0m \u001b[1;33m+\u001b[0m \u001b[0mmode\u001b[0m\u001b[1;33m,\u001b[0m \u001b[1;33m**\u001b[0m\u001b[0mkwargs\u001b[0m\u001b[1;33m)\u001b[0m\u001b[1;33m\u001b[0m\u001b[1;33m\u001b[0m\u001b[0m\n\u001b[0m\u001b[0;32m    174\u001b[0m \u001b[1;33m\u001b[0m\u001b[0m\n\u001b[0;32m    175\u001b[0m     \u001b[1;31m# Get format\u001b[0m\u001b[1;33m\u001b[0m\u001b[1;33m\u001b[0m\u001b[1;33m\u001b[0m\u001b[0m\n",
      "\u001b[1;32m~\\anaconda3\\lib\\site-packages\\imageio\\core\\request.py\u001b[0m in \u001b[0;36m__init__\u001b[1;34m(self, uri, mode, **kwargs)\u001b[0m\n\u001b[0;32m    124\u001b[0m \u001b[1;33m\u001b[0m\u001b[0m\n\u001b[0;32m    125\u001b[0m         \u001b[1;31m# Parse what was given\u001b[0m\u001b[1;33m\u001b[0m\u001b[1;33m\u001b[0m\u001b[1;33m\u001b[0m\u001b[0m\n\u001b[1;32m--> 126\u001b[1;33m         \u001b[0mself\u001b[0m\u001b[1;33m.\u001b[0m\u001b[0m_parse_uri\u001b[0m\u001b[1;33m(\u001b[0m\u001b[0muri\u001b[0m\u001b[1;33m)\u001b[0m\u001b[1;33m\u001b[0m\u001b[1;33m\u001b[0m\u001b[0m\n\u001b[0m\u001b[0;32m    127\u001b[0m \u001b[1;33m\u001b[0m\u001b[0m\n\u001b[0;32m    128\u001b[0m         \u001b[1;31m# Set extension\u001b[0m\u001b[1;33m\u001b[0m\u001b[1;33m\u001b[0m\u001b[1;33m\u001b[0m\u001b[0m\n",
      "\u001b[1;32m~\\anaconda3\\lib\\site-packages\\imageio\\core\\request.py\u001b[0m in \u001b[0;36m_parse_uri\u001b[1;34m(self, uri)\u001b[0m\n\u001b[0;32m    276\u001b[0m                 \u001b[1;31m# Reading: check that the file exists (but is allowed a dir)\u001b[0m\u001b[1;33m\u001b[0m\u001b[1;33m\u001b[0m\u001b[1;33m\u001b[0m\u001b[0m\n\u001b[0;32m    277\u001b[0m                 \u001b[1;32mif\u001b[0m \u001b[1;32mnot\u001b[0m \u001b[0mos\u001b[0m\u001b[1;33m.\u001b[0m\u001b[0mpath\u001b[0m\u001b[1;33m.\u001b[0m\u001b[0mexists\u001b[0m\u001b[1;33m(\u001b[0m\u001b[0mfn\u001b[0m\u001b[1;33m)\u001b[0m\u001b[1;33m:\u001b[0m\u001b[1;33m\u001b[0m\u001b[1;33m\u001b[0m\u001b[0m\n\u001b[1;32m--> 278\u001b[1;33m                     \u001b[1;32mraise\u001b[0m \u001b[0mFileNotFoundError\u001b[0m\u001b[1;33m(\u001b[0m\u001b[1;34m\"No such file: '%s'\"\u001b[0m \u001b[1;33m%\u001b[0m \u001b[0mfn\u001b[0m\u001b[1;33m)\u001b[0m\u001b[1;33m\u001b[0m\u001b[1;33m\u001b[0m\u001b[0m\n\u001b[0m\u001b[0;32m    279\u001b[0m             \u001b[1;32melse\u001b[0m\u001b[1;33m:\u001b[0m\u001b[1;33m\u001b[0m\u001b[1;33m\u001b[0m\u001b[0m\n\u001b[0;32m    280\u001b[0m                 \u001b[1;31m# Writing: check that the directory to write to does exist\u001b[0m\u001b[1;33m\u001b[0m\u001b[1;33m\u001b[0m\u001b[1;33m\u001b[0m\u001b[0m\n",
      "\u001b[1;31mFileNotFoundError\u001b[0m: No such file: 'C:\\Users\\LAB203\\Documents\\GitHub\\LabData4Biz63-1\\Week8_Discriminant_functions\\Week8_Discriminant_functions\\practice\\images\\image.png'"
     ]
    }
   ],
   "source": [
    "# สร้าง .gif เพื่อดูการเปลี่ยนแปลง ของ w0, w1, error\n",
    "images = []\n",
    "\n",
    "w0_list = w0_list\n",
    "w1_list = w1_list\n",
    "\n",
    "for i in tqdm(range(len(w0_list))):\n",
    "    plot_line(X, Y, w0_list[i], w1_list[i], save_fig=True)\n",
    "\n",
    "    images.append(imageio.imread('images/image.png'))\n",
    "\n",
    "imageio.mimsave('images/Batch-GD.gif', images)"
   ]
  },
  {
   "cell_type": "markdown",
   "metadata": {
    "id": "CnOalOIxuH8n"
   },
   "source": [
    "# Stochastic Gradient Descent"
   ]
  },
  {
   "cell_type": "code",
   "execution_count": 26,
   "metadata": {
    "id": "PhTD7tYVuKUy"
   },
   "outputs": [],
   "source": [
    "def StochasticGradeintDescent_Step(X, Y, w0, w1, lr):\n",
    "    # วน loop เพื่อทำการคำนวณค่า gradient (dw0, dw1) \n",
    "    # หลังจากนั้นทำการปรับค่า w0, w1 ตามค่า gradient ที่เกิดในในแต่ละ data point\n",
    "    for x, y in zip(X, Y):\n",
    "        # คำนวณค่า y_hat จาก w0, w1 ที่กำหนด\n",
    "        y_hat = w0 + w1*x\n",
    "\n",
    "        # คำนวณค่า delta (error ระหว่าง actual กับ prediction)\n",
    "        delta = y - y_hat\n",
    "\n",
    "        # คำนวณค่า gradient w0,w1 \n",
    "        dw0 = delta * 1\n",
    "        dw1 = delta * x\n",
    "\n",
    "        # ปรับค่า w0, w1\n",
    "        w0 = w0 + lr * dw0\n",
    "        w1 = w1 + lr * dw1\n",
    "\n",
    "    return w0, w1\n"
   ]
  },
  {
   "cell_type": "code",
   "execution_count": 27,
   "metadata": {
    "colab": {
     "base_uri": "https://localhost:8080/",
     "height": 295
    },
    "id": "lqbz_a-nuhZp",
    "outputId": "319f0b39-464b-498a-f931-a6d7814d0fe3"
   },
   "outputs": [
    {
     "data": {
      "image/png": "[encoded data removed]",
      "text/plain": [
       "<Figure size 432x288 with 1 Axes>"
      ]
     },
     "metadata": {
      "needs_background": "light"
     },
     "output_type": "display_data"
    }
   ],
   "source": [
    "# กำหนดค่าเริ่มต้นของ w0, w1\n",
    "w0 = 0\n",
    "w1 = 0.5\n",
    "\n",
    "# สร้างตัวแปรไว้สำหรับเก็บข้อมูล\n",
    "w0_list2 = []\n",
    "w1_list2 = []\n",
    "error_list2 = []\n",
    "\n",
    "# วน loop เพื่อทำปรับค่า w0, w1 โดยใช้วิธี Stochastic Gradient Descent\n",
    "for i in range(200):\n",
    "    # คำนวณค่า error ที่เกิดขึ้น เมื่อใช้ w0, w1  \n",
    "    error = compute_mse(X, Y, w0, w1)\n",
    "\n",
    "    # เก็บค่า w0,w1, error ไว้ใน list\n",
    "    w0_list2.append(w0)\n",
    "    w1_list2.append(w1)\n",
    "    error_list2.append(error)\n",
    "\n",
    "    # ปรับค่า w0, w1 โดยใช้วิธี Stochastic Gradient Descent\n",
    "    w0, w1 = StochasticGradeintDescent_Step(X, Y, w0, w1, lr=0.001) \n",
    "\n",
    "# Plot error vs step\n",
    "plt.title('Stochastic Gradient Descent')\n",
    "plt.plot(error_list2)\n",
    "plt.ylabel('Error')\n",
    "plt.xlabel('Step')\n",
    "plt.show()"
   ]
  },
  {
   "cell_type": "code",
   "execution_count": 28,
   "metadata": {
    "colab": {
     "base_uri": "https://localhost:8080/",
     "height": 35
    },
    "id": "k4lmUOh4u3o0",
    "outputId": "4820c4c5-3764-4abd-8101-f914a1a24554"
   },
   "outputs": [
    {
     "name": "stderr",
     "output_type": "stream",
     "text": [
      "  0%|          | 0/200 [00:00<?, ?it/s]\n"
     ]
    },
    {
     "ename": "FileNotFoundError",
     "evalue": "No such file: 'C:\\Users\\LAB203\\Documents\\GitHub\\LabData4Biz63-1\\Week8_Discriminant_functions\\Week8_Discriminant_functions\\practice\\images\\image.png'",
     "output_type": "error",
     "traceback": [
      "\u001b[1;31m---------------------------------------------------------------------------\u001b[0m",
      "\u001b[1;31mFileNotFoundError\u001b[0m                         Traceback (most recent call last)",
      "\u001b[1;32m<ipython-input-28-7267b2dc9446>\u001b[0m in \u001b[0;36m<module>\u001b[1;34m\u001b[0m\n\u001b[0;32m      8\u001b[0m     \u001b[0mplot_line\u001b[0m\u001b[1;33m(\u001b[0m\u001b[0mX\u001b[0m\u001b[1;33m,\u001b[0m \u001b[0mY\u001b[0m\u001b[1;33m,\u001b[0m \u001b[0mw0_list\u001b[0m\u001b[1;33m[\u001b[0m\u001b[0mi\u001b[0m\u001b[1;33m]\u001b[0m\u001b[1;33m,\u001b[0m \u001b[0mw1_list\u001b[0m\u001b[1;33m[\u001b[0m\u001b[0mi\u001b[0m\u001b[1;33m]\u001b[0m\u001b[1;33m,\u001b[0m \u001b[0msave_fig\u001b[0m\u001b[1;33m=\u001b[0m\u001b[1;32mTrue\u001b[0m\u001b[1;33m)\u001b[0m\u001b[1;33m\u001b[0m\u001b[1;33m\u001b[0m\u001b[0m\n\u001b[0;32m      9\u001b[0m \u001b[1;33m\u001b[0m\u001b[0m\n\u001b[1;32m---> 10\u001b[1;33m     \u001b[0mimages\u001b[0m\u001b[1;33m.\u001b[0m\u001b[0mappend\u001b[0m\u001b[1;33m(\u001b[0m\u001b[0mimageio\u001b[0m\u001b[1;33m.\u001b[0m\u001b[0mimread\u001b[0m\u001b[1;33m(\u001b[0m\u001b[1;34m'images/image.png'\u001b[0m\u001b[1;33m)\u001b[0m\u001b[1;33m)\u001b[0m\u001b[1;33m\u001b[0m\u001b[1;33m\u001b[0m\u001b[0m\n\u001b[0m\u001b[0;32m     11\u001b[0m \u001b[1;33m\u001b[0m\u001b[0m\n\u001b[0;32m     12\u001b[0m \u001b[0mimageio\u001b[0m\u001b[1;33m.\u001b[0m\u001b[0mmimsave\u001b[0m\u001b[1;33m(\u001b[0m\u001b[1;34m'images/SGD.gif'\u001b[0m\u001b[1;33m,\u001b[0m \u001b[0mimages\u001b[0m\u001b[1;33m,\u001b[0m \u001b[1;33m)\u001b[0m\u001b[1;33m\u001b[0m\u001b[1;33m\u001b[0m\u001b[0m\n",
      "\u001b[1;32m~\\anaconda3\\lib\\site-packages\\imageio\\core\\functions.py\u001b[0m in \u001b[0;36mimread\u001b[1;34m(uri, format, **kwargs)\u001b[0m\n\u001b[0;32m    262\u001b[0m \u001b[1;33m\u001b[0m\u001b[0m\n\u001b[0;32m    263\u001b[0m     \u001b[1;31m# Get reader and read first\u001b[0m\u001b[1;33m\u001b[0m\u001b[1;33m\u001b[0m\u001b[1;33m\u001b[0m\u001b[0m\n\u001b[1;32m--> 264\u001b[1;33m     \u001b[0mreader\u001b[0m \u001b[1;33m=\u001b[0m \u001b[0mread\u001b[0m\u001b[1;33m(\u001b[0m\u001b[0muri\u001b[0m\u001b[1;33m,\u001b[0m \u001b[0mformat\u001b[0m\u001b[1;33m,\u001b[0m \u001b[1;34m\"i\"\u001b[0m\u001b[1;33m,\u001b[0m \u001b[1;33m**\u001b[0m\u001b[0mkwargs\u001b[0m\u001b[1;33m)\u001b[0m\u001b[1;33m\u001b[0m\u001b[1;33m\u001b[0m\u001b[0m\n\u001b[0m\u001b[0;32m    265\u001b[0m     \u001b[1;32mwith\u001b[0m \u001b[0mreader\u001b[0m\u001b[1;33m:\u001b[0m\u001b[1;33m\u001b[0m\u001b[1;33m\u001b[0m\u001b[0m\n\u001b[0;32m    266\u001b[0m         \u001b[1;32mreturn\u001b[0m \u001b[0mreader\u001b[0m\u001b[1;33m.\u001b[0m\u001b[0mget_data\u001b[0m\u001b[1;33m(\u001b[0m\u001b[1;36m0\u001b[0m\u001b[1;33m)\u001b[0m\u001b[1;33m\u001b[0m\u001b[1;33m\u001b[0m\u001b[0m\n",
      "\u001b[1;32m~\\anaconda3\\lib\\site-packages\\imageio\\core\\functions.py\u001b[0m in \u001b[0;36mget_reader\u001b[1;34m(uri, format, mode, **kwargs)\u001b[0m\n\u001b[0;32m    171\u001b[0m \u001b[1;33m\u001b[0m\u001b[0m\n\u001b[0;32m    172\u001b[0m     \u001b[1;31m# Create request object\u001b[0m\u001b[1;33m\u001b[0m\u001b[1;33m\u001b[0m\u001b[1;33m\u001b[0m\u001b[0m\n\u001b[1;32m--> 173\u001b[1;33m     \u001b[0mrequest\u001b[0m \u001b[1;33m=\u001b[0m \u001b[0mRequest\u001b[0m\u001b[1;33m(\u001b[0m\u001b[0muri\u001b[0m\u001b[1;33m,\u001b[0m \u001b[1;34m\"r\"\u001b[0m \u001b[1;33m+\u001b[0m \u001b[0mmode\u001b[0m\u001b[1;33m,\u001b[0m \u001b[1;33m**\u001b[0m\u001b[0mkwargs\u001b[0m\u001b[1;33m)\u001b[0m\u001b[1;33m\u001b[0m\u001b[1;33m\u001b[0m\u001b[0m\n\u001b[0m\u001b[0;32m    174\u001b[0m \u001b[1;33m\u001b[0m\u001b[0m\n\u001b[0;32m    175\u001b[0m     \u001b[1;31m# Get format\u001b[0m\u001b[1;33m\u001b[0m\u001b[1;33m\u001b[0m\u001b[1;33m\u001b[0m\u001b[0m\n",
      "\u001b[1;32m~\\anaconda3\\lib\\site-packages\\imageio\\core\\request.py\u001b[0m in \u001b[0;36m__init__\u001b[1;34m(self, uri, mode, **kwargs)\u001b[0m\n\u001b[0;32m    124\u001b[0m \u001b[1;33m\u001b[0m\u001b[0m\n\u001b[0;32m    125\u001b[0m         \u001b[1;31m# Parse what was given\u001b[0m\u001b[1;33m\u001b[0m\u001b[1;33m\u001b[0m\u001b[1;33m\u001b[0m\u001b[0m\n\u001b[1;32m--> 126\u001b[1;33m         \u001b[0mself\u001b[0m\u001b[1;33m.\u001b[0m\u001b[0m_parse_uri\u001b[0m\u001b[1;33m(\u001b[0m\u001b[0muri\u001b[0m\u001b[1;33m)\u001b[0m\u001b[1;33m\u001b[0m\u001b[1;33m\u001b[0m\u001b[0m\n\u001b[0m\u001b[0;32m    127\u001b[0m \u001b[1;33m\u001b[0m\u001b[0m\n\u001b[0;32m    128\u001b[0m         \u001b[1;31m# Set extension\u001b[0m\u001b[1;33m\u001b[0m\u001b[1;33m\u001b[0m\u001b[1;33m\u001b[0m\u001b[0m\n",
      "\u001b[1;32m~\\anaconda3\\lib\\site-packages\\imageio\\core\\request.py\u001b[0m in \u001b[0;36m_parse_uri\u001b[1;34m(self, uri)\u001b[0m\n\u001b[0;32m    276\u001b[0m                 \u001b[1;31m# Reading: check that the file exists (but is allowed a dir)\u001b[0m\u001b[1;33m\u001b[0m\u001b[1;33m\u001b[0m\u001b[1;33m\u001b[0m\u001b[0m\n\u001b[0;32m    277\u001b[0m                 \u001b[1;32mif\u001b[0m \u001b[1;32mnot\u001b[0m \u001b[0mos\u001b[0m\u001b[1;33m.\u001b[0m\u001b[0mpath\u001b[0m\u001b[1;33m.\u001b[0m\u001b[0mexists\u001b[0m\u001b[1;33m(\u001b[0m\u001b[0mfn\u001b[0m\u001b[1;33m)\u001b[0m\u001b[1;33m:\u001b[0m\u001b[1;33m\u001b[0m\u001b[1;33m\u001b[0m\u001b[0m\n\u001b[1;32m--> 278\u001b[1;33m                     \u001b[1;32mraise\u001b[0m \u001b[0mFileNotFoundError\u001b[0m\u001b[1;33m(\u001b[0m\u001b[1;34m\"No such file: '%s'\"\u001b[0m \u001b[1;33m%\u001b[0m \u001b[0mfn\u001b[0m\u001b[1;33m)\u001b[0m\u001b[1;33m\u001b[0m\u001b[1;33m\u001b[0m\u001b[0m\n\u001b[0m\u001b[0;32m    279\u001b[0m             \u001b[1;32melse\u001b[0m\u001b[1;33m:\u001b[0m\u001b[1;33m\u001b[0m\u001b[1;33m\u001b[0m\u001b[0m\n\u001b[0;32m    280\u001b[0m                 \u001b[1;31m# Writing: check that the directory to write to does exist\u001b[0m\u001b[1;33m\u001b[0m\u001b[1;33m\u001b[0m\u001b[1;33m\u001b[0m\u001b[0m\n",
      "\u001b[1;31mFileNotFoundError\u001b[0m: No such file: 'C:\\Users\\LAB203\\Documents\\GitHub\\LabData4Biz63-1\\Week8_Discriminant_functions\\Week8_Discriminant_functions\\practice\\images\\image.png'"
     ]
    }
   ],
   "source": [
    "# สร้าง .gif เพื่อดูการเปลี่ยนแปลง ของ w0, w1, error\n",
    "images = []\n",
    "\n",
    "w0_list = w0_list2\n",
    "w1_list = w1_list2\n",
    "\n",
    "for i in tqdm(range(len(w0_list))):\n",
    "    plot_line(X, Y, w0_list[i], w1_list[i], save_fig=True)\n",
    "\n",
    "    images.append(imageio.imread('images/image.png'))\n",
    "\n",
    "imageio.mimsave('images/SGD.gif', images, )"
   ]
  },
  {
   "cell_type": "code",
   "execution_count": 29,
   "metadata": {
    "colab": {
     "base_uri": "https://localhost:8080/",
     "height": 299
    },
    "id": "TKBlrEfgu0PH",
    "outputId": "f4519cc7-5ff6-4ee2-baa4-4f408f72eedb"
   },
   "outputs": [
    {
     "data": {
      "image/png": "[encoded data removed]",
      "text/plain": [
       "<Figure size 432x288 with 1 Axes>"
      ]
     },
     "metadata": {
      "needs_background": "light"
     },
     "output_type": "display_data"
    }
   ],
   "source": [
    "plt.title('Batch vs Stochastic')\n",
    "plt.plot(error_list)\n",
    "plt.plot(error_list2)\n",
    "plt.ylabel('Error')\n",
    "plt.xlabel('Step')\n",
    "plt.legend(['Batch', 'SGD'])\n",
    "plt.xscale('log')\n",
    "plt.show()"
   ]
  },
  {
   "cell_type": "code",
   "execution_count": null,
   "metadata": {
    "id": "RuMvp2-kvbJ4"
   },
   "outputs": [],
   "source": []
  }
 ],
 "metadata": {
  "colab": {
   "name": "LogisticRegression-GradientDescent-v1.ipynb",
   "provenance": []
  },
  "kernelspec": {
   "display_name": "Python 3",
   "language": "python",
   "name": "python3"
  },
  "language_info": {
   "codemirror_mode": {
    "name": "ipython",
    "version": 3
   },
   "file_extension": ".py",
   "mimetype": "text/x-python",
   "name": "python",
   "nbconvert_exporter": "python",
   "pygments_lexer": "ipython3",
   "version": "3.7.6"
  }
 },
 "nbformat": 4,
 "nbformat_minor": 1
}
