{
 "cells": [
  {
   "cell_type": "markdown",
   "metadata": {
    "id": "uTHeoo7MjObR"
   },
   "source": [
    "# Visualize Logistic Regression and Gradient Descent\n",
    "\n",
    "Term 1 2020 - Instructor: Teerapong Leelanupab\n",
    "\n",
    "Teaching Assistant: \n",
    "1. Tiwipab Meephruek (Mil)\n",
    "2. Jiratkul Wangsiripaisarn (Brooklyn)\n",
    "3. Hataichanok Sakkara (Pond)\n",
    "***"
   ]
  },
  {
   "cell_type": "markdown",
   "metadata": {},
   "source": [
    "## Import library"
   ]
  },
  {
   "cell_type": "code",
   "execution_count": 1,
   "metadata": {
    "id": "Epp0gyXyJbW5"
   },
   "outputs": [],
   "source": [
    "import pandas as pd\n",
    "import numpy as np\n",
    "import matplotlib.pyplot as plt\n",
    "\n",
    "import imageio\n",
    "from tqdm import tqdm"
   ]
  },
  {
   "cell_type": "markdown",
   "metadata": {
    "id": "nxQx1iDsjTlw"
   },
   "source": [
    "## Create dataset"
   ]
  },
  {
   "cell_type": "code",
   "execution_count": 7,
   "metadata": {},
   "outputs": [
    {
     "ename": "NameError",
     "evalue": "name 'oise' is not defined",
     "output_type": "error",
     "traceback": [
      "\u001b[1;31m---------------------------------------------------------------------------\u001b[0m",
      "\u001b[1;31mNameError\u001b[0m                                 Traceback (most recent call last)",
      "\u001b[1;32m<ipython-input-7-85f0e027d687>\u001b[0m in \u001b[0;36m<module>\u001b[1;34m\u001b[0m\n\u001b[0;32m      4\u001b[0m \u001b[0mnoise\u001b[0m \u001b[1;33m=\u001b[0m \u001b[0mnp\u001b[0m\u001b[1;33m.\u001b[0m\u001b[0mrandom\u001b[0m\u001b[1;33m.\u001b[0m\u001b[0mrandn\u001b[0m\u001b[1;33m(\u001b[0m\u001b[1;36m100\u001b[0m\u001b[1;33m)\u001b[0m \u001b[1;31m# สุ่มตัวเลขมา 100 ค่า จาก standard normal distribution (mean=0, std=1)\u001b[0m\u001b[1;33m\u001b[0m\u001b[1;33m\u001b[0m\u001b[0m\n\u001b[0;32m      5\u001b[0m \u001b[1;33m\u001b[0m\u001b[0m\n\u001b[1;32m----> 6\u001b[1;33m \u001b[0mY\u001b[0m \u001b[1;33m=\u001b[0m  \u001b[1;36m3\u001b[0m \u001b[1;33m+\u001b[0m \u001b[1;36m2\u001b[0m\u001b[1;33m*\u001b[0m\u001b[0mX\u001b[0m \u001b[1;33m+\u001b[0m \u001b[1;33m(\u001b[0m\u001b[0moise\u001b[0m\u001b[1;33m*\u001b[0m\u001b[1;36m0.5\u001b[0m\u001b[1;33m)\u001b[0m\u001b[1;33m\u001b[0m\u001b[1;33m\u001b[0m\u001b[0m\n\u001b[0m",
      "\u001b[1;31mNameError\u001b[0m: name 'oise' is not defined"
     ]
    }
   ],
   "source": [
    "np.random.seed(1) # กำหนด random seed ไว้ เพื่อให้ได้ตัวเลขชุดเดิมเวลากลับมารันใหม่\n",
    "\n",
    "X = np.random.random(100) # สุ่มตัวเลขมา 100 ค่า จาก uniform distribution [0,1) \n",
    "noise = np.random.randn(100) # สุ่มตัวเลขมา 100 ค่า จาก standard normal distribution (mean=0, std=1)\n",
    "\n",
    "Y =  3 + 2*X + (oise*0.5)"
   ]
  },
  {
   "cell_type": "code",
   "execution_count": 3,
   "metadata": {},
   "outputs": [
    {
     "data": {
      "text/plain": [
       "array([3.83404401, 4.44064899, 3.00022875, 3.60466515, 3.29351178,\n",
       "       3.18467719, 3.37252042, 3.69112145, 3.79353495, 4.07763347,\n",
       "       3.83838903, 4.370439  , 3.4089045 , 4.75623487, 3.05477519,\n",
       "       4.34093502, 3.8346096 , 4.11737966, 3.28077388, 3.39620298,\n",
       "       4.60148914, 4.93652315, 3.62684836, 4.38464523, 4.7527783 ,\n",
       "       4.78921333, 3.17008842, 3.07810957, 3.33966084, 4.75628501,\n",
       "       3.19669367, 3.84221525, 4.91577906, 4.06633057, 4.38375423,\n",
       "       3.63103126, 4.37300186, 4.66925134, 3.03657655, 4.50028863,\n",
       "       4.97772218, 4.49633131, 3.56088798, 4.57855866, 3.20645201,\n",
       "       3.89578705, 4.81719101, 3.5872283 , 3.57555068, 3.26005714,\n",
       "       3.03873392, 4.35767107, 3.42325623, 3.53109332, 3.98314632,\n",
       "       3.10672509, 4.14823521, 3.29345715, 4.17861107, 4.39951672,\n",
       "       3.20466886, 3.82811198, 4.38880032, 3.82835854, 3.09990692,\n",
       "       4.07179281, 4.32758929, 4.02977822, 4.88918951, 4.17311008,\n",
       "       4.80680383, 3.27494941, 3.27855269, 4.61478258, 3.79535367,\n",
       "       3.33070839, 4.85501716, 3.69553172, 4.50162421, 4.45199597,\n",
       "       4.76661218, 4.24734441, 4.50188487, 3.69779668, 3.53985578,\n",
       "       4.79177244, 3.85618238, 4.92968009, 4.326883  , 4.24339144,\n",
       "       3.22949195, 4.89897852, 3.89982427, 4.15677923, 3.81627361,\n",
       "       3.47405396, 4.80675904, 4.14735897, 3.00574065, 4.23428983])"
      ]
     },
     "execution_count": 3,
     "metadata": {},
     "output_type": "execute_result"
    }
   ],
   "source": [
    "Y"
   ]
  },
  {
   "cell_type": "code",
   "execution_count": 6,
   "metadata": {},
   "outputs": [
    {
     "data": {
      "image/png": "[encoded data removed]",
      "text/plain": [
       "<Figure size 432x288 with 1 Axes>"
      ]
     },
     "metadata": {
      "needs_background": "light"
     },
     "output_type": "display_data"
    }
   ],
   "source": [
    "# Plot graph เพื่อดูความสัมพันธ์ของข้อมูล\n",
    "plt.scatter(X, Y)\n",
    "plt.xlabel('X')\n",
    "plt.ylabel('Y')\n",
    "plt.show()"
   ]
  },
  {
   "cell_type": "code",
   "execution_count": null,
   "metadata": {},
   "outputs": [],
   "source": [
    "xy = [(x, y) for x, y in zip(X, Y)]\n",
    "df = pd.DataFrame(xy)\n",
    "df"
   ]
  },
  {
   "cell_type": "code",
   "execution_count": null,
   "metadata": {},
   "outputs": [],
   "source": [
    "df.columns = ['carat', 'price_10k']\n",
    "df"
   ]
  },
  {
   "cell_type": "code",
   "execution_count": null,
   "metadata": {},
   "outputs": [],
   "source": []
  },
  {
   "cell_type": "code",
   "execution_count": null,
   "metadata": {},
   "outputs": [],
   "source": []
  },
  {
   "cell_type": "code",
   "execution_count": null,
   "metadata": {
    "id": "Q8_MxrHijCHW"
   },
   "outputs": [],
   "source": [
    "# np.random.seed(1) # กำหนด random seed ไว้ เพื่อให้ได้ตัวเลขชุดเดิมเวลากลับมารันใหม่\n",
    "\n",
    "# X1 = np.random.random(100) # สุ่มตัวเลขมา 100 ค่า จาก uniform distribution [0,1) \n",
    "# X2 = np.random.random(100)\n",
    "# noise = np.random.randn(100) # สุ่มตัวเลขมา 100 ค่า จาก standard normal distribution (mean=0, std=1)\n",
    "\n",
    "# tmp = 3*X1 + 3*X2 + 3\n",
    "# Y = (X2 >= 0.6)"
   ]
  },
  {
   "cell_type": "code",
   "execution_count": null,
   "metadata": {
    "colab": {
     "base_uri": "https://localhost:8080/",
     "height": 357
    },
    "id": "TijAM_jw2mQi",
    "outputId": "36c73b1a-4625-4206-d027-a8c8cdf66b4b"
   },
   "outputs": [],
   "source": [
    "# tmp"
   ]
  },
  {
   "cell_type": "code",
   "execution_count": null,
   "metadata": {
    "colab": {
     "base_uri": "https://localhost:8080/",
     "height": 279
    },
    "id": "wbL6jYdojRUI",
    "outputId": "c4833b01-6142-4fef-d25a-79a2a72d72ba"
   },
   "outputs": [],
   "source": [
    "# # Plot graph เพื่อดูความสัมพันธ์ของข้อมูล\n",
    "# plt.scatter(X2,X1, c=Y)\n",
    "# plt.xlabel('X1')\n",
    "# plt.ylabel('X2')\n",
    "# plt.show()"
   ]
  },
  {
   "cell_type": "markdown",
   "metadata": {
    "id": "x9YUyBnPmKma"
   },
   "source": [
    "## Error Function\n",
    "\n",
    "ref: zip() function  \n",
    "https://www.w3schools.com/python/ref_func_zip.asp"
   ]
  },
  {
   "cell_type": "code",
   "execution_count": null,
   "metadata": {
    "id": "aXPzxOHYjmt8"
   },
   "outputs": [],
   "source": [
    "# สร้าง function ที่ใช้วัด ค่า error ที่เกิดขึ้น \n",
    "# จากการใช้ สมการเส้นตรง Y_hat = w0 + w1*X  มาเทียบกับข้อมูล Y\n",
    "\n",
    "def compute_mse(X, Y, w0, w1):\n",
    "    # สร้างสมการเส้นตรงตามค่า w0, w1 ที่กำหนด\n",
    "    Y_hat = w0 + w1*X\n",
    "\n",
    "    # วน loop เพื่อคำนวณค่า error ที่เกิดขึ้นในทุกๆ data point\n",
    "    # แล้วนำมารวมกันที่ ตัวแปร totol_error\n",
    "    total_error = 0\n",
    "    for y, y_hat in zip(Y, Y_hat):\n",
    "        error = (y-y_hat)**2\n",
    "        total_error += error \n",
    "\n",
    "    # คำนวณค่าเฉลี่ยของ error ที่เกิดขึ้น - หารด้วย 2m หรือ 2|X| \n",
    "    mse = total_error / (2 * len(X))\n",
    "\n",
    "    return mse"
   ]
  },
  {
   "cell_type": "markdown",
   "metadata": {},
   "source": [
    "### Test our error function"
   ]
  },
  {
   "cell_type": "code",
   "execution_count": null,
   "metadata": {},
   "outputs": [],
   "source": [
    "w0 = 10\n",
    "w1 = 1\n",
    "compute_mse(X, Y, w0, w1)\n",
    "# it works"
   ]
  },
  {
   "cell_type": "markdown",
   "metadata": {
    "id": "tnGaA7hqnZP4"
   },
   "source": [
    "## Plot Error vs Weights"
   ]
  },
  {
   "cell_type": "code",
   "execution_count": null,
   "metadata": {
    "colab": {
     "base_uri": "https://localhost:8080/",
     "height": 295
    },
    "id": "v2vn9-tBjACE",
    "outputId": "e6dc40a3-ade9-45aa-d784-e51e8f446c65",
    "scrolled": true
   },
   "outputs": [],
   "source": [
    "# ทำการสร้างกราฟของ Error เทียบ w0\n",
    "w0_list = [] #intercept\n",
    "error_list_by_w0 = []\n",
    "\n",
    "w1 = 2 #slope\n",
    "\n",
    "for w0 in range(-10, 30):\n",
    "    error = compute_mse(X, Y, w0, w1) # Get the J(X) \n",
    "    error_list_by_w0.append(error)\n",
    "    w0_list.append(w0)\n",
    "\n",
    "    \n",
    "plt.title('Error vs w0')\n",
    "plt.scatter(w0_list, error_list_by_w0)\n",
    "plt.ylabel('Error')\n",
    "plt.xlabel('w0')\n",
    "plt.show()"
   ]
  },
  {
   "cell_type": "code",
   "execution_count": null,
   "metadata": {},
   "outputs": [],
   "source": [
    "min(error_list_by_w0)"
   ]
  },
  {
   "cell_type": "code",
   "execution_count": null,
   "metadata": {},
   "outputs": [],
   "source": [
    "np.argmin(error_list_by_w0)"
   ]
  },
  {
   "cell_type": "code",
   "execution_count": null,
   "metadata": {},
   "outputs": [],
   "source": [
    "w0_list[np.argmin(error_list_by_w0)]"
   ]
  },
  {
   "cell_type": "code",
   "execution_count": null,
   "metadata": {
    "colab": {
     "base_uri": "https://localhost:8080/",
     "height": 295
    },
    "id": "tZlP-nE1nmaI",
    "outputId": "bbad92a5-ba72-4e48-b6b5-4118f1c7d956"
   },
   "outputs": [],
   "source": [
    "# ทำการสร้างกราฟของ Error เทียบ w1\n",
    "w1_list = [] #slope\n",
    "error_list_by_w1 = []\n",
    "\n",
    "w0 = 2 #intercept\n",
    "\n",
    "for w1 in range(-10,30):\n",
    "    error = compute_mse(X, Y, w0, w1)\n",
    "    error_list_by_w1.append(error)\n",
    "    w1_list.append(w1)\n",
    "\n",
    "plt.title('Error vs w1')\n",
    "plt.scatter(w1_list, error_list_by_w1)\n",
    "plt.ylabel('Error')\n",
    "plt.xlabel('w1')\n",
    "plt.show()"
   ]
  },
  {
   "cell_type": "code",
   "execution_count": null,
   "metadata": {
    "colab": {
     "base_uri": "https://localhost:8080/",
     "height": 295
    },
    "id": "rzlVzscuoPjh",
    "outputId": "c90cf585-1b42-4b5e-a985-3ad33581e984"
   },
   "outputs": [],
   "source": [
    "# Plot error เทียบกับ w0, w1 ลงในกราฟเดียวกัน\n",
    "plt.title('Error vs W')\n",
    "plt.scatter(w0_list, error_list_by_w0)\n",
    "plt.scatter(w1_list, error_list_by_w1)\n",
    "plt.ylabel('Error')\n",
    "plt.xlabel('W')\n",
    "plt.legend(['w0', 'w1'])\n",
    "plt.show()"
   ]
  },
  {
   "cell_type": "markdown",
   "metadata": {
    "id": "JxwiKmJ9o0wV"
   },
   "source": [
    "# Plot linear regression vs data points"
   ]
  },
  {
   "cell_type": "code",
   "execution_count": null,
   "metadata": {
    "id": "1fHqcpNBjAFu"
   },
   "outputs": [],
   "source": [
    "def plot_line(X, Y, w0, w1, save_fig=False):\n",
    "    X_dummy = np.linspace(0,1,10)\n",
    "    Y_hat = w0 + w1*X_dummy\n",
    "\n",
    "    error = compute_mse(X,Y, w0, w1)\n",
    "\n",
    "    plt.scatter(X,Y)\n",
    "    plt.plot(X_dummy, Y_hat, '-r')\n",
    "    plt.ylim(0,np.max(Y)+1)\n",
    "    plt.title(f'w0 = {np.round(w0, 5)} , w1 = {np.round(w1, 5)} \\n error = {np.round(error, 5)}')\n",
    "\n",
    "    if save_fig:\n",
    "        plt.savefig('image.png')\n",
    "        plt.close()\n",
    "        return None\n",
    "\n",
    "    plt.show()"
   ]
  },
  {
   "cell_type": "code",
   "execution_count": null,
   "metadata": {
    "colab": {
     "base_uri": "https://localhost:8080/",
     "height": 296
    },
    "id": "LuHG-X5cpBMl",
    "outputId": "b7c6c833-ae92-48f7-8ced-fba572ecb655"
   },
   "outputs": [],
   "source": [
    "plot_line(X, Y, w0=2, w1=5)"
   ]
  },
  {
   "cell_type": "code",
   "execution_count": null,
   "metadata": {},
   "outputs": [],
   "source": [
    "plot_line(X, Y, w0=3, w1=-2)"
   ]
  },
  {
   "cell_type": "code",
   "execution_count": null,
   "metadata": {
    "colab": {
     "base_uri": "https://localhost:8080/",
     "height": 296
    },
    "id": "lcWnET9lpFsc",
    "outputId": "2ce5c79c-7e9c-4ac4-f774-4e8f25a304b1"
   },
   "outputs": [],
   "source": [
    "plot_line(X, Y, w0=5, w1=2)"
   ]
  },
  {
   "cell_type": "code",
   "execution_count": null,
   "metadata": {},
   "outputs": [],
   "source": [
    "plot_line(X, Y, w0=3, w1=2)"
   ]
  },
  {
   "cell_type": "markdown",
   "metadata": {
    "id": "M8krVvR0rDx2"
   },
   "source": [
    "# BatchGradeintDescent"
   ]
  },
  {
   "cell_type": "code",
   "execution_count": null,
   "metadata": {
    "id": "yIZinZRUl1Tl"
   },
   "outputs": [],
   "source": [
    "def BatchGradeintDescent_Step(X, Y, w0, w1, lr):\n",
    "    # สร้างสมการเส้นตรงตามค่า w0, w1 ที่กำหนด\n",
    "    Y_hat = w0 + w1*X\n",
    "\n",
    "    # สร้างตัวแปรที่ใช้เก็บ total gradient ของ w0 กับ w1\n",
    "    total_dw0 = 0\n",
    "    total_dw1 = 0\n",
    "\n",
    "    # วน loop เพื่อทำการคำนวณค่า gradient (dw0, dw1) \n",
    "    # แล้วนำไปบวกเพิ่มในตัวแปร tottotal_dw0, total_dw1\n",
    "    for x, y, y_hat in zip(X, Y, Y_hat):\n",
    "        # คำนวนค่า delta (error ระหว่าง actual กับ prediction)\n",
    "        delta = y - y_hat\n",
    "\n",
    "        # คำนวณค่า gradient\n",
    "        dw0 = delta * 1\n",
    "        dw1 = delta * x\n",
    "\n",
    "        # บวกเพิ่มในตัวแปร total gradient\n",
    "        total_dw0 += dw0\n",
    "        total_dw1 += dw1\n",
    "\n",
    "    # หาค่าเฉลี่ยของ gradient\n",
    "    avg_dw0 = (total_dw0) / len(X)\n",
    "    avg_dw1 = (total_dw1) / len(X)\n",
    "\n",
    "    # ทำการปรับค่า w0, w1 โดยใช้ค่าเฉลี่ยของ gradient\n",
    "    w0 = w0 + lr * avg_dw0\n",
    "    w1 = w1 + lr * avg_dw1\n",
    "\n",
    "    return w0, w1"
   ]
  },
  {
   "cell_type": "code",
   "execution_count": null,
   "metadata": {
    "colab": {
     "base_uri": "https://localhost:8080/",
     "height": 295
    },
    "id": "sqUH6RAnoF2I",
    "outputId": "89701129-a894-4e0e-f093-a99fcd42c6a2"
   },
   "outputs": [],
   "source": [
    "# กำหนดค่าเริ่มต้นของ w0, w1\n",
    "w0 = 0\n",
    "w1 = 0.5\n",
    "\n",
    "# สร้างตัวแปรไว้สำหรับเก็บข้อมูล\n",
    "w0_list = []\n",
    "w1_list = []\n",
    "error_list = []\n",
    "\n",
    "# วน loop เพื่อทำปรับค่า w0, w1 โดยใช้วิธี Batch Gradient Descent\n",
    "for i in range(200):\n",
    "    # คำนวณค่า error ที่เกิดขึ้น เมื่อใช้ w0, w1  \n",
    "    error = compute_mse(X, Y, w0, w1)\n",
    "\n",
    "    # เก็บค่า w0, w1, error ไว้ใน list\n",
    "    w0_list.append(w0)\n",
    "    w1_list.append(w1)\n",
    "    error_list.append(error)\n",
    "\n",
    "    # ปรับค่า w0, w1 โดยใช้วิธี Batch Gradient Descent\n",
    "    w0, w1 = BatchGradeintDescent_Step(X, Y, w0, w1, lr=0.05) \n",
    "\n",
    "# Plot error vs step\n",
    "plt.title('Batch Gradient Descent')\n",
    "plt.plot(error_list)\n",
    "plt.ylabel('Error')\n",
    "plt.xlabel('Step')\n",
    "plt.show()"
   ]
  },
  {
   "cell_type": "code",
   "execution_count": null,
   "metadata": {
    "colab": {
     "base_uri": "https://localhost:8080/",
     "height": 35
    },
    "id": "rufF-GYRqKQj",
    "outputId": "bc0d13d0-c22d-458a-e42e-530829f57c49"
   },
   "outputs": [],
   "source": [
    "# สร้าง .gif เพื่อดูการเปลี่ยนแปลง ของ w0, w1, error\n",
    "images = []\n",
    "\n",
    "w0_list = w0_list\n",
    "w1_list = w1_list\n",
    "\n",
    "for i in tqdm(range(len(w0_list))):\n",
    "    plot_line(X, Y, w0_list[i], w1_list[i], save_fig=True)\n",
    "\n",
    "    images.append(imageio.imread('images/image.png'))\n",
    "\n",
    "imageio.mimsave('images/Batch-GD.gif', images)"
   ]
  },
  {
   "cell_type": "markdown",
   "metadata": {
    "id": "CnOalOIxuH8n"
   },
   "source": [
    "# Stochastic Gradient Descent"
   ]
  },
  {
   "cell_type": "code",
   "execution_count": null,
   "metadata": {
    "id": "PhTD7tYVuKUy"
   },
   "outputs": [],
   "source": [
    "def StochasticGradeintDescent_Step(X, Y, w0, w1, lr):\n",
    "    # วน loop เพื่อทำการคำนวณค่า gradient (dw0, dw1) \n",
    "    # หลังจากนั้นทำการปรับค่า w0, w1 ตามค่า gradient ที่เกิดในในแต่ละ data point\n",
    "    for x, y in zip(X, Y):\n",
    "        # คำนวณค่า y_hat จาก w0, w1 ที่กำหนด\n",
    "        y_hat = w0 + w1*x\n",
    "\n",
    "        # คำนวณค่า delta (error ระหว่าง actual กับ prediction)\n",
    "        delta = y - y_hat\n",
    "\n",
    "        # คำนวณค่า gradient w0,w1 \n",
    "        dw0 = delta * 1\n",
    "        dw1 = delta * x\n",
    "\n",
    "        # ปรับค่า w0, w1\n",
    "        w0 = w0 + lr * dw0\n",
    "        w1 = w1 + lr * dw1\n",
    "\n",
    "    return w0, w1\n"
   ]
  },
  {
   "cell_type": "code",
   "execution_count": null,
   "metadata": {
    "colab": {
     "base_uri": "https://localhost:8080/",
     "height": 295
    },
    "id": "lqbz_a-nuhZp",
    "outputId": "319f0b39-464b-498a-f931-a6d7814d0fe3"
   },
   "outputs": [],
   "source": [
    "# กำหนดค่าเริ่มต้นของ w0, w1\n",
    "w0 = 0\n",
    "w1 = 0.5\n",
    "\n",
    "# สร้างตัวแปรไว้สำหรับเก็บข้อมูล\n",
    "w0_list2 = []\n",
    "w1_list2 = []\n",
    "error_list2 = []\n",
    "\n",
    "# วน loop เพื่อทำปรับค่า w0, w1 โดยใช้วิธี Stochastic Gradient Descent\n",
    "for i in range(200):\n",
    "    # คำนวณค่า error ที่เกิดขึ้น เมื่อใช้ w0, w1  \n",
    "    error = compute_mse(X, Y, w0, w1)\n",
    "\n",
    "    # เก็บค่า w0,w1, error ไว้ใน list\n",
    "    w0_list2.append(w0)\n",
    "    w1_list2.append(w1)\n",
    "    error_list2.append(error)\n",
    "\n",
    "    # ปรับค่า w0, w1 โดยใช้วิธี Stochastic Gradient Descent\n",
    "    w0, w1 = StochasticGradeintDescent_Step(X, Y, w0, w1, lr=0.001) \n",
    "\n",
    "# Plot error vs step\n",
    "plt.title('Stochastic Gradient Descent')\n",
    "plt.plot(error_list2)\n",
    "plt.ylabel('Error')\n",
    "plt.xlabel('Step')\n",
    "plt.show()"
   ]
  },
  {
   "cell_type": "code",
   "execution_count": null,
   "metadata": {
    "colab": {
     "base_uri": "https://localhost:8080/",
     "height": 35
    },
    "id": "k4lmUOh4u3o0",
    "outputId": "4820c4c5-3764-4abd-8101-f914a1a24554"
   },
   "outputs": [],
   "source": [
    "# สร้าง .gif เพื่อดูการเปลี่ยนแปลง ของ w0, w1, error\n",
    "images = []\n",
    "\n",
    "w0_list = w0_list2\n",
    "w1_list = w1_list2\n",
    "\n",
    "for i in tqdm(range(len(w0_list))):\n",
    "    plot_line(X, Y, w0_list[i], w1_list[i], save_fig=True)\n",
    "\n",
    "    images.append(imageio.imread('images/image.png'))\n",
    "\n",
    "imageio.mimsave('images/SGD.gif', images, )"
   ]
  },
  {
   "cell_type": "code",
   "execution_count": null,
   "metadata": {
    "colab": {
     "base_uri": "https://localhost:8080/",
     "height": 299
    },
    "id": "TKBlrEfgu0PH",
    "outputId": "f4519cc7-5ff6-4ee2-baa4-4f408f72eedb"
   },
   "outputs": [],
   "source": [
    "plt.title('Batch vs Stochastic')\n",
    "plt.plot(error_list)\n",
    "plt.plot(error_list2)\n",
    "plt.ylabel('Error')\n",
    "plt.xlabel('Step')\n",
    "plt.legend(['Batch', 'SGD'])\n",
    "plt.xscale('log')\n",
    "plt.show()"
   ]
  },
  {
   "cell_type": "code",
   "execution_count": null,
   "metadata": {
    "id": "RuMvp2-kvbJ4"
   },
   "outputs": [],
   "source": []
  }
 ],
 "metadata": {
  "colab": {
   "name": "LogisticRegression-GradientDescent-v1.ipynb",
   "provenance": []
  },
  "kernelspec": {
   "display_name": "Python 3",
   "language": "python",
   "name": "python3"
  },
  "language_info": {
   "codemirror_mode": {
    "name": "ipython",
    "version": 3
   },
   "file_extension": ".py",
   "mimetype": "text/x-python",
   "name": "python",
   "nbconvert_exporter": "python",
   "pygments_lexer": "ipython3",
   "version": "3.7.6"
  }
 },
 "nbformat": 4,
 "nbformat_minor": 1
}
