{
 "cells": [
  {
   "cell_type": "markdown",
   "metadata": {},
   "source": [
    "# Python Class and Object\n",
    "\n",
    "Term 1 2020 - Instructor: Teerapong Leelanupab\n",
    "\n",
    "Teaching Assistant: \n",
    "1. Tiwipab Meephruek (Mil)\n",
    "2. Jiratkul Wangsiripaisarn (Brooklyn)\n",
    "3. Hataichanok Sakkara (Pond)\n",
    "\n",
    "***"
   ]
  },
  {
   "cell_type": "markdown",
   "metadata": {},
   "source": [
    " # Introduction\n",
    "\n",
    "The topic of object-oriented programming is a part lecture course on its own, so in this notebook \n",
    "we will focus on:\n",
    "\n",
    "- Classes\n",
    "- Attributes of objects\n",
    "- Class methods\n",
    "\n",
    "We will do this primarily by example. We will not delve into inheritance and polymorphism.\n",
    "\n",
    "Python supports the object-oriented programming paradigm; in fact, everything in Python is an object.\n",
    "You have been using concepts from object-oriented computing throughout this course.\n",
    "\n",
    "\n",
    "## Objectives\n",
    "\n",
    "- Appreciate objects as instantiations of classes\n",
    "- Understanding of attributes and methods of classes\n",
    "- Learn to create simple classes\n",
    "- Implement and use class methods\n",
    "\n",
    "https://docs.python.org/3/tutorial/classes.html\n",
    "\n",
    "\n",
    "Extra knowledge about single and double (Leading and Trailing) underscores, <br>\n",
    "https://dbader.org/blog/meaning-of-underscores-in-python\n",
    "\n",
    "\n",
    "Extra knowledge argparse <br>\n",
    "https://realpython.com/comparing-python-command-line-parsing-libraries-argparse-docopt-click/#command-line-example"
   ]
  },
  {
   "cell_type": "markdown",
   "metadata": {},
   "source": [
    "# Python Class\n",
    "\n",
    "1. A blueprint to create objects.\n",
    "2. The \"object\" is a \"base\" class in Python\n",
    "3. The \"class\" keyword is used to create a class\n",
    "4. Python constructor is defined with __init__() method, but today you will also learn the concept of a sibling method __new__().\n",
    "5. Python does not support multiple constructors in a class, i.e., \"No\" Constructor Overloading"
   ]
  },
  {
   "cell_type": "markdown",
   "metadata": {},
   "source": [
    "ref: https://www.studytonight.com/python/constructors-in-python\n",
    "\n",
    "## What is a Constructor?\n",
    "As seen in the last tutorial, we know that there are two ways to declare/define a variable of a class.\n",
    "\n",
    "First, by simply defining it inside the class and maybe even initialize it with some value, then and there, pretty much like:"
   ]
  },
  {
   "cell_type": "code",
   "execution_count": 1,
   "metadata": {},
   "outputs": [],
   "source": [
    "class Example:\n",
    "    myVariable = \"some value\""
   ]
  },
  {
   "cell_type": "code",
   "execution_count": 2,
   "metadata": {},
   "outputs": [
    {
     "data": {
      "text/plain": [
       "'some value'"
      ]
     },
     "execution_count": 2,
     "metadata": {},
     "output_type": "execute_result"
    }
   ],
   "source": [
    "myObject = Example()\n",
    "myObject.myVariable"
   ]
  },
  {
   "cell_type": "code",
   "execution_count": 3,
   "metadata": {},
   "outputs": [
    {
     "data": {
      "text/plain": [
       "'some other value'"
      ]
     },
     "execution_count": 3,
     "metadata": {},
     "output_type": "execute_result"
    }
   ],
   "source": [
    "myObject.myVariable = \"some other value\"\n",
    "myObject.myVariable"
   ]
  },
  {
   "cell_type": "code",
   "execution_count": 4,
   "metadata": {},
   "outputs": [
    {
     "name": "stdout",
     "output_type": "stream",
     "text": [
      "hello\n"
     ]
    },
    {
     "data": {
      "text/plain": [
       "'hello'"
      ]
     },
     "execution_count": 4,
     "metadata": {},
     "output_type": "execute_result"
    }
   ],
   "source": [
    "myObject.myVariable = input();\n",
    "myObject.myVariable"
   ]
  },
  {
   "cell_type": "markdown",
   "metadata": {},
   "source": [
    "We can also assign/modify values of our variables inside class functions using the self keyword."
   ]
  },
  {
   "cell_type": "code",
   "execution_count": 5,
   "metadata": {},
   "outputs": [],
   "source": [
    "class Example:\n",
    "    def anotherFunction(self, parameter1):\n",
    "        self.myVariable = parameter1; #myVariable is also initialized or re-initialised within a method, but I do suggest to declare outside the method\n",
    "        # or by calling for a user input\n",
    "        # self.myVariable = input()"
   ]
  },
  {
   "cell_type": "code",
   "execution_count": 6,
   "metadata": {},
   "outputs": [
    {
     "data": {
      "text/plain": [
       "'Amazing Spiderman'"
      ]
     },
     "execution_count": 6,
     "metadata": {},
     "output_type": "execute_result"
    }
   ],
   "source": [
    "myObject = Example()\n",
    "myObject.anotherFunction(\"Amazing Spiderman\")\n",
    "myObject.myVariable"
   ]
  },
  {
   "cell_type": "markdown",
   "metadata": {},
   "source": [
    "### Good practice is to define or initialize object variables as variables or within __init__ (talk about this later)"
   ]
  },
  {
   "cell_type": "code",
   "execution_count": null,
   "metadata": {},
   "outputs": [],
   "source": [
    "class Example:\n",
    "    myVariable = \"default value\"\n",
    "    \n",
    "    def anotherFunction(self,parameter1):\n",
    "        self.myVariable = parameter1; #myVariable is also initialized or re-initialised within a method, but I do suggest to declare outside the method\n",
    "        # or by calling for a user input\n",
    "        # self.myVariable = input()"
   ]
  },
  {
   "cell_type": "code",
   "execution_count": null,
   "metadata": {},
   "outputs": [],
   "source": [
    "myObject = Example()\n",
    "print(myObject.myVariable)\n",
    "myObject.anotherFunction(\"Amazing Spiderman\")\n",
    "print(myObject.myVariable)"
   ]
  },
  {
   "cell_type": "markdown",
   "metadata": {},
   "source": [
    "# Defining Constructor method in a class\n",
    "In python, the object creation part is divided into two parts:\n",
    "\n",
    "1. Object Creation\n",
    "2. Object Initialisation"
   ]
  },
  {
   "cell_type": "markdown",
   "metadata": {},
   "source": [
    "## Object Creation\n",
    "\n",
    "Object creation is controlled by a **static** class method with the name __new__. Hence when you call **Example()**, to create an object of the class **Example**, then the __new__ method of this class is called. Python defines this function for every class by default, although you can always do that explicitly too, to play around with object creation."
   ]
  },
  {
   "cell_type": "code",
   "execution_count": null,
   "metadata": {},
   "outputs": [],
   "source": [
    "class Example:\n",
    "    def __new__(self):\n",
    "        return 'studytonight'\n",
    "\n",
    "# creating object of the class Example\n",
    "mutantObj = Example()\n",
    "\n",
    "# but this will return that our object \n",
    "# is of type str\n",
    "print (type(mutantObj))"
   ]
  },
  {
   "cell_type": "markdown",
   "metadata": {},
   "source": [
    "In the example above, we have used the __new__ function to change the tyoe of object returned, just to show you what we can do using this function.\n",
    "\n",
    "To see how the default __new__ function works, run the code below, and you will see that this time the object created is of the type **Example**"
   ]
  },
  {
   "cell_type": "code",
   "execution_count": null,
   "metadata": {},
   "outputs": [],
   "source": [
    "class Example:\n",
    "    myVariable = \"some value\";\n",
    "\n",
    "simpleObj = Example()\n",
    "print (type(simpleObj))"
   ]
  },
  {
   "cell_type": "markdown",
   "metadata": {},
   "source": [
    "## Object Initialisation\n",
    "Object initialisation is controlled by an **instance** method with the name __init__ and which is also generally called as a **Constructor**. <br>\n",
    "*Although, both __new__ and __init__ together forms a constructor.*\n",
    "\n",
    "Once the object is created, you can make sure that every variable in the object is correctly initialised by defining an __init__ method in your class, which pretty much means **initiate**.\n",
    "\n",
    "Thus, it doesn't matter what the class name is, if you want to write a constructor(to initialise your object) for that class, it has to be the __init__() method. Within this function, you're free to declare a class variable(using self) or initialize them. Here is a quick example for our Example class with __init__ method:"
   ]
  },
  {
   "cell_type": "code",
   "execution_count": null,
   "metadata": {},
   "outputs": [],
   "source": [
    "# This is a common way to define and initialize object variables/attributes, using __init__  \n",
    "class Example:\n",
    "    def __init__(self, value1, value2):\n",
    "        self.myVariable1 = value1\n",
    "        self.myVariable2 = value2\n",
    "        print (\"All variable initialized\")"
   ]
  },
  {
   "cell_type": "code",
   "execution_count": null,
   "metadata": {},
   "outputs": [],
   "source": [
    "myObj = Example(\"first variable\", \"second variable\")"
   ]
  },
  {
   "cell_type": "code",
   "execution_count": null,
   "metadata": {},
   "outputs": [],
   "source": [
    "print(myObj.myVariable1)\n",
    "print(myObj.myVariable2)\n",
    "print (type(myObj))"
   ]
  },
  {
   "cell_type": "code",
   "execution_count": null,
   "metadata": {},
   "outputs": [],
   "source": [
    "class Example:\n",
    "       def __init__(self):\n",
    "        self.myVariable1 = input();\n",
    "        self.myVariable2 = input();\n",
    "        print (\"All variable initialized\")"
   ]
  },
  {
   "cell_type": "code",
   "execution_count": null,
   "metadata": {},
   "outputs": [],
   "source": [
    "myObj = Example()"
   ]
  },
  {
   "cell_type": "code",
   "execution_count": null,
   "metadata": {},
   "outputs": [],
   "source": [
    "print(myObj.myVariable1)\n",
    "print(myObj.myVariable2)\n",
    "print (type(myObj))"
   ]
  },
  {
   "attachments": {
    "constructor-in-python.gif": {
     "image/gif": "[encoded data removed]"
    }
   },
   "cell_type": "markdown",
   "metadata": {},
   "source": [
    "### How these two methods work as object instantiation\n",
    "Use __new__ when we need to control the creation of a new instance.\n",
    "\n",
    "Use __init__ when we need to control initialization of a new instance.\n",
    "\n",
    "__new__ is the first step of instance creation. It's called first, and is responsible for returning a new instance of our class.\n",
    "\n",
    "In contrast, __init__ doesn't return anything; it's only responsible for initializing the instance after it's been created.\n",
    "\n",
    "In general, we do not need to override __new__ unless you're subclassing an immutable type like str, int, unicode or tuple.\n",
    "\n",
    "![constructor-in-python.gif](attachment:constructor-in-python.gif)"
   ]
  },
  {
   "cell_type": "markdown",
   "metadata": {},
   "source": [
    "# Python Destructors - Destroying the Object\n",
    "\n",
    "Just like a constructor is used to create and initialize an object, a destructor is used to destroy the object and perform the final clean up.\n",
    "\n",
    "Although in python we do have **garbage collector** to clean up the memory, but its not just memory which has to be freed when an object is dereferenced or destroyed, it can be a lot of other resources as well, like **closing open files, closing database connections, cleaning up the buffer or cache**, etc. Hence when we say the final clean up, it doesn't only mean cleaning up the memory resources."
   ]
  },
  {
   "cell_type": "markdown",
   "metadata": {},
   "source": [
    "## Using the \\_\\_del\\_\\_ method\n",
    "\n",
    "Below we have a simple code for a class **Example**, where we have used the __init__ method to initialize our object, while we have defined the __del__ method to act as a destructor."
   ]
  },
  {
   "cell_type": "code",
   "execution_count": null,
   "metadata": {},
   "outputs": [],
   "source": [
    "class Example:\n",
    "    def __init__(self):\n",
    "        print (\"Object created\")\n",
    "    \n",
    "    # destructor\n",
    "    def __del__(self):\n",
    "        print (\"Object destroyed\")"
   ]
  },
  {
   "cell_type": "code",
   "execution_count": null,
   "metadata": {},
   "outputs": [],
   "source": [
    "# creating an object\n",
    "myObj = Example()\n",
    "# to delete the object explicitly\n",
    "del myObj"
   ]
  },
  {
   "cell_type": "markdown",
   "metadata": {},
   "source": [
    "***\n",
    "## Creating classes\n",
    "\n",
    "Sometimes we cannot find a class (object type) that suits our problem. In this case we can make our own.\n",
    "As a simple example, consider a class that holds a person's surname and forename:"
   ]
  },
  {
   "cell_type": "code",
   "execution_count": null,
   "metadata": {},
   "outputs": [],
   "source": [
    "class PersonName:\n",
    "    def __init__(self, surname, forename):\n",
    "        self.surname = surname  # Attribute\n",
    "        self.forename = forename  # Attribute\n",
    "        \n",
    "    # This is a method\n",
    "    def full_name(self):\n",
    "        \"Return full name (forename surname)\"\n",
    "        return self.forename + \" \" + self.surname\n",
    "\n",
    "    # This is a method\n",
    "    def surname_forename(self, sep=\",\"):\n",
    "        \"Return 'surname, forename', with option to specify separator\"\n",
    "        return self.surname + sep + \" \" + self.forename"
   ]
  },
  {
   "cell_type": "markdown",
   "metadata": {},
   "source": [
    "Before dissecting the syntax of this class, we will use it. \n",
    "We first create an object (an instantiation) of type `PersonName`:"
   ]
  },
  {
   "cell_type": "code",
   "execution_count": null,
   "metadata": {},
   "outputs": [],
   "source": [
    "name_entry = PersonName(\"Bloggs\", \"Joanna\")\n",
    "print(type(name_entry))"
   ]
  },
  {
   "cell_type": "markdown",
   "metadata": {},
   "source": [
    "We first test the attributes:"
   ]
  },
  {
   "cell_type": "code",
   "execution_count": null,
   "metadata": {},
   "outputs": [],
   "source": [
    "print(name_entry.surname)\n",
    "print(name_entry.forename)"
   ]
  },
  {
   "cell_type": "markdown",
   "metadata": {},
   "source": [
    "Next, we test the class methods:"
   ]
  },
  {
   "cell_type": "code",
   "execution_count": null,
   "metadata": {},
   "outputs": [],
   "source": [
    "name = name_entry.full_name()\n",
    "print(name)\n",
    "\n",
    "name = name_entry.surname_forename()\n",
    "print(name)\n",
    "\n",
    "name = name_entry.surname_forename(\";\")\n",
    "print(name)"
   ]
  },
  {
   "cell_type": "markdown",
   "metadata": {},
   "source": [
    "Dissecting the class, is it declared by\n",
    "```python\n",
    "class PersonName:\n",
    "```\n",
    "We then have what is known as the *Constructor*:\n",
    "```python\n",
    "    def __init__(self, surname, forename):\n",
    "        self.surname = surname\n",
    "        self.forename = forename\n",
    "```\n",
    "This is the 'function' that is called when we create an object, i.e. when we use `name_entry = PersonName(\"Bloggs\", \"Joanna\")`. The keyword '`self`' refers to the object itself - it can take time to \n",
    "develop an understanding of `self`. The initialiser in this case is stores the surname and forename of the person (attributes). You can test when the initialiser is called by inserting a print statement.\n",
    "\n",
    "This class has two methods:\n",
    "```python\n",
    "    def full_name(self):\n",
    "        \"Return full name (forname surname)\"\n",
    "        return self.forename + \" \" + self.surname\n",
    "\n",
    "    def surname_forename(self, sep=\",\"):\n",
    "        \"Return 'surname, forname', with option to specify separator\"\n",
    "        return self.surname + sep + \" \" + self.forename\n",
    "```\n",
    "These methods are functions that do something with the class data. In this case, from the forename and surname\n",
    "they return the full name of the person, formatted in different ways."
   ]
  },
  {
   "cell_type": "markdown",
   "metadata": {},
   "source": [
    "# Operators\n",
    "\n",
    "<font color='blue'>Operators like `+`, `-`, `*` and `/` are actually functions - in Python they are shorthand for functions with \n",
    "the names `__add__`, `__sub__`, `__mul__` and `__truediv__`, respectively.</font> By\n",
    "adding these methods to a class, we can define what the mathematical operators should do."
   ]
  },
  {
   "cell_type": "markdown",
   "metadata": {},
   "source": [
    "## Mixed-up maths (ตั้งใช้สลับ คูณ กับหาร)\n",
    "\n",
    "Say we want to create our own numbers with their own operations. <font color='red'>As a simple (and very silly) example, \n",
    "we decide we want to change notation such that '`*`' means division and '`/`' means multiplication.</font> \n",
    "\n",
    "To switch '`*`' and '`/`' for our special numbers, we create a class to represent our special numbers, and\n",
    "and provide it with its own `__mul__` and `__truediv__` functions.\n",
    "We will also provide the method `__repr__(self)` - this is called when we use the `print` function. "
   ]
  },
  {
   "cell_type": "code",
   "execution_count": null,
   "metadata": {},
   "outputs": [],
   "source": [
    "class crazynumber:\n",
    "    \"A crazy number class that switches the mutliplcation and division operations\"\n",
    "    \n",
    "    # Initialiser\n",
    "    def __init__(self, x):\n",
    "        self.x = x  # This is an attribute\n",
    "\n",
    "    # Define multiplication (*) (this is a method)\n",
    "    def __mul__(self, y):\n",
    "        return crazynumber(self.x/y.x)\n",
    "\n",
    "    # Define the division (/) (this is a method)\n",
    "    def __truediv__(self, y):\n",
    "        return crazynumber(self.x*y.x)\n",
    "    \n",
    "    # This is called when we use 'print' (this is a method)\n",
    "    def __repr__(self):\n",
    "        return str(self.x)  # Convert type to a string and return"
   ]
  },
  {
   "cell_type": "markdown",
   "metadata": {},
   "source": [
    "We now create two `crazynumber` objects:"
   ]
  },
  {
   "cell_type": "code",
   "execution_count": null,
   "metadata": {},
   "outputs": [],
   "source": [
    "u = crazynumber(10)\n",
    "v = crazynumber(2)"
   ]
  },
  {
   "cell_type": "markdown",
   "metadata": {},
   "source": [
    "Since we have defined `*` to be division, we expect u\\*v to be equal to 5:"
   ]
  },
  {
   "cell_type": "code",
   "execution_count": null,
   "metadata": {},
   "outputs": [],
   "source": [
    "a = u*v  # This will call '__mul__(self, y)'\n",
    "print(a)  # This will call '__repr__(self)'"
   ]
  },
  {
   "cell_type": "markdown",
   "metadata": {},
   "source": [
    "Testing '`/`':"
   ]
  },
  {
   "cell_type": "code",
   "execution_count": null,
   "metadata": {},
   "outputs": [],
   "source": [
    "b = u/v\n",
    "print(b)"
   ]
  },
  {
   "cell_type": "markdown",
   "metadata": {},
   "source": [
    "By providing methods, we have defined how the mathematical operators should be interpreted."
   ]
  },
  {
   "cell_type": "markdown",
   "metadata": {},
   "source": [
    "## Equality testing\n",
    "\n",
    "We have previously used library versions of sorting functions, and seen that they are much faster than our own implementations. What if we have a list of our own objects that we want to sort them? For example,\n",
    "we might have a `StudentEntry` class, and then have a list with a `StudentEntry` object for each student.\n",
    "The built-in sort functions cannot know how we want to sort our list.\n",
    "\n",
    "Another case is if we have a list of numbers, and we we want to sort according to a custom rule?\n",
    "\n",
    "The built-in sort functions do not care about the details of our data. All they rely on\n",
    "are *comparisons*, e.g. the `<`, `>`, and `==` operators. If we equip our class with comparison operators\n",
    "we can use built-in sorting functions."
   ]
  },
  {
   "cell_type": "markdown",
   "metadata": {},
   "source": [
    "### Custom sorting\n",
    "\n",
    "Say we want to sort a list of numbers such that all even numbers appear before odd numbers, but otherwise the usual ordering rule applies. We do not want to write our own sorting function. We can do this custom sorting by creating our own class for holding a number and equipping it with `<`, `>`, and `==` operators.\n",
    "The functions corresponding to the operators are:\n",
    "\n",
    "- `__lt__(self, other)` (less than `other`, `<`)\n",
    "- `__gt__(self, other)` (greater than `other`, `>`)\n",
    "- `__eq__(self, other)` (equal to `other`, `==`)\n",
    "\n",
    "The functions return `True` or `False`."
   ]
  },
  {
   "cell_type": "markdown",
   "metadata": {},
   "source": [
    "Below is class for storing a number which obeys our custom ordering rules:"
   ]
  },
  {
   "cell_type": "code",
   "execution_count": null,
   "metadata": {},
   "outputs": [],
   "source": [
    "class MyNumber:\n",
    "\n",
    "    def __init__(self, x):\n",
    "        self.x = x  # Store value (attribute)\n",
    "        \n",
    "    # Custom '<' operator (method)\n",
    "    def __lt__(self, other):\n",
    "        if self.x % 2 == 0 and other.x % 2 != 0:  # I am even, other is odd, so I am less than                   \n",
    "            return True\n",
    "        elif self.x % 2 != 0 and other.x % 2 == 0:  # I am odd, other is even, so I am not less than \n",
    "            return False\n",
    "        else:\n",
    "            return self.x < other.x  # Use usual ordering of numbers\n",
    "\n",
    "    # Custom '==' operator (method)\n",
    "    def __eq__(self, other):\n",
    "        return self.x == other.x\n",
    "\n",
    "    # Custom '>' operator (method)\n",
    "    def __gt__(self, other):\n",
    "        if self.x % 2 == 0 and other.x % 2 != 0:  # I am even, other is odd, so I am not greater                    \n",
    "            return False\n",
    "        elif self.x % 2 != 0 and other.x % 2 == 0:  # I am odd, other is even, so I am greater                    \n",
    "            return True\n",
    "        else:\n",
    "            return self.x > other.x  # Use usual ordering of numbers\n",
    "\n",
    "    # This function is called by Python when we try to print something   \n",
    "    def __repr__(self):\n",
    "        return str(self.x)"
   ]
  },
  {
   "cell_type": "markdown",
   "metadata": {},
   "source": [
    "We can perform some simple tests on the operators (insert print statements into the methods if you want\n",
    "to verify which function is called)"
   ]
  },
  {
   "cell_type": "code",
   "execution_count": null,
   "metadata": {},
   "outputs": [],
   "source": [
    "x = MyNumber(4)\n",
    "y = MyNumber(3)\n",
    "print(x < y)  # Expect True (since x is even and y is odd)\n",
    "print(y < x)  # Expect False"
   ]
  },
  {
   "cell_type": "markdown",
   "metadata": {},
   "source": [
    "We now try applying a the built-in list sort function to check that the sorted list obeys our \n",
    "custom sorting rule:"
   ]
  },
  {
   "cell_type": "code",
   "execution_count": null,
   "metadata": {},
   "outputs": [],
   "source": [
    "# Create an array of random integers\n",
    "x = np.random.randint(0, 200, 10)\n",
    "\n",
    "# Create a list of 'MyNumber' from x (using list comprehension)\n",
    "y = [MyNumber(v) for v in x]\n",
    "\n",
    "# This is the long-hand for building y\n",
    "#y = []\n",
    "#for v in x:\n",
    "#    y.append(MyNumber(v))\n",
    "\n",
    "# Used the built-in list sort method to sort the list of 'MyNumber' objects\n",
    "y.sort()\n",
    "print(y)"
   ]
  },
  {
   "cell_type": "markdown",
   "metadata": {},
   "source": [
    "Without modifying the sort algorithm, we have applied our own ordering. Approaches like this are a feature of \n",
    "object-oriented computing. The sort algorithms sort *objects*, and the objects simply need\n",
    "the comparison operators. The sort algorithms do not need to know the details of the objects."
   ]
  },
  {
   "cell_type": "markdown",
   "metadata": {},
   "source": [
    "# Home Exercises"
   ]
  },
  {
   "cell_type": "markdown",
   "metadata": {},
   "source": [
    "## Exercise 11.1\n",
    "\n",
    "Create a class to represent vectors of arbitrary length and which is initialised with a list of values, e.g.:\n",
    "```python\n",
    "x = MyVector([0, 2, 4])\n",
    "```\n",
    "\n",
    "Equip the class with methods that:\n",
    "\n",
    "1. Return the length of the vector\n",
    "2. Compute the norm of the vector $\\sqrt{x \\cdot x}$\n",
    "3. Compute the dot product of the vector with another vector\n",
    "\n",
    "Test your implementation using two vectors of length 3. To help you get started, a skeleton of the class is provided below. Don't forget to use `self` where necessary."
   ]
  },
  {
   "cell_type": "code",
   "execution_count": null,
   "metadata": {},
   "outputs": [],
   "source": [
    "class MyVector:\n",
    "    def __init__(self, x):\n",
    "        self.x = x\n",
    "        \n",
    "    # Return length of vector\n",
    "    def size(self):\n",
    "        # Add your code here\n",
    "        pass  # This can be removed once the body is added\n",
    "    \n",
    "    # This allows access by index, e.g. y[2]\n",
    "    def __getitem__(self, index):\n",
    "        return self.x[index]\n",
    "\n",
    "    # Return norm of vector\n",
    "    def norm(self):\n",
    "        # Add your code here\n",
    "        pass  # This can be removed once the body is added\n",
    "    \n",
    "    # Return dot product of vector with another vector\n",
    "    def dot(self, other):\n",
    "        # Add your code here\n",
    "        pass  # This can be removed once the body is added"
   ]
  },
  {
   "cell_type": "markdown",
   "metadata": {},
   "source": [
    "## Exercise 11.2\n",
    "\n",
    "1. Create a class for holding a student record entry. It should have the following attributes:\n",
    "   - Surname\n",
    "   - Forename\n",
    "   - Birth year\n",
    "   - Tripos year\n",
    "   - College\n",
    "   - CRSid (optional field)\n",
    "1. Equip your class with the method '`age`' that returns the age of the student\n",
    "1. Equip your class with the method '`__repr__`' such using `print` on a student record displays with the format\n",
    "\n",
    "       Surname: Bloggs, Forename: Andrea, College: Churchill\n",
    "\n",
    "1. Equip your class with the method `__lt__(self, other)` so that a list of record entries can be sorted by \n",
    "   (surname, forename). Create a list of entries and test the sorting. Make sure you have two entries with the same\n",
    "   surname.\n",
    "\n",
    "*Hint:* To get the current year:"
   ]
  },
  {
   "cell_type": "code",
   "execution_count": null,
   "metadata": {},
   "outputs": [],
   "source": [
    "import datetime\n",
    "year = datetime.date.today().year\n",
    "print(year)"
   ]
  }
 ],
 "metadata": {
  "kernelspec": {
   "display_name": "Python 3",
   "language": "python",
   "name": "python3"
  },
  "language_info": {
   "codemirror_mode": {
    "name": "ipython",
    "version": 3
   },
   "file_extension": ".py",
   "mimetype": "text/x-python",
   "name": "python",
   "nbconvert_exporter": "python",
   "pygments_lexer": "ipython3",
   "version": "3.7.3"
  }
 },
 "nbformat": 4,
 "nbformat_minor": 1
}
